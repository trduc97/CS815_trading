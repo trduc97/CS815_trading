{
 "cells": [
  {
   "cell_type": "markdown",
   "source": [
    "|      Nguyen, Duc Trung\n",
    "|      Thomson, Alasdair"
   ],
   "metadata": {
    "id": "45bPoO8Jbd2-"
   }
  },
  {
   "cell_type": "markdown",
   "source": [
    "# 1. Background to the problem"
   ],
   "metadata": {
    "id": "fL0SI__Kr2sT"
   }
  },
  {
   "cell_type": "markdown",
   "source": [
    "In this assignment, we will try to develop a trading bot focus on short-term investment of blue chip stocks. For this, we wil perform 2 tasks:\n",
    "\n",
    "(1) Applying **Neural Network**, specifically the Long Short-Term Memory (LSTM) Neural network, using previous days closing price and other technical indicators as input, to make next day price prediction\n",
    "\n",
    "(2) Applying **Genetic Algorithm** to develop an efficient trading strategy that can utlize the price prediction, maximize profit while also maintain certain level of flexibility.\n",
    "\n",
    "For task 1, we will be using various technical indicators including:\n",
    "\n",
    "1. **Simple Moving Average (SMA)**: SMA calculates the average price of a security over a specific period, helping to smooth out price fluctuations and identify trends.\n",
    "\n",
    "2. **Exponential Moving Average (EMA)**: EMA is a type of moving average that gives more weight to recent prices, making it more responsive to recent price changes and useful for trend identification.\n",
    "\n",
    "3. **Relative Strength Index (RSI)**: RSI is a momentum oscillator ranging from 0 to 100, used to identify overbought or oversold conditions in a security based on recent price movements.\n",
    "\n",
    "4. **Moving Average Convergence Divergence (MACD)**: MACD is a trend-following momentum indicator that compares two moving averages of a security's price to identify bullish and bearish signals and potential trend reversals.\n",
    "\n",
    "We will be using data of a short time period (previous 1 to 5 days), but by incorporating these technical indicators, our predictions would based on infomation of a much bigger time window while still maintain relatively fast.\n",
    "\n",
    "We will be building on other research utilizing LSTM and using many of the techniques identified in this paper (https://www.analyticsvidhya.com/blog/2021/12/stock-price-prediction-using-lstm/)."
   ],
   "metadata": {
    "id": "sEe64EACvWc1"
   }
  },
  {
   "cell_type": "markdown",
   "source": [
    "## 1.1 A note on the use of python\n",
    "\n",
    "Please note that this assignment is delivered in Python with the permission of the professor. This is due to our use of a neural network in creating predictions which we found was easier to perform in Python."
   ],
   "metadata": {
    "id": "4dCIGwzpaudG"
   }
  },
  {
   "cell_type": "code",
   "source": [
    "#@title\n",
    "import sys\n",
    "print('python version: ',sys.version)"
   ],
   "metadata": {
    "colab": {
     "base_uri": "https://localhost:8080/"
    },
    "id": "N4WuMvuCl9WI",
    "outputId": "ae5aea9e-eca2-4c95-e6df-d1e51902a855",
    "cellView": "form"
   },
   "execution_count": null,
   "outputs": [
    {
     "output_type": "stream",
     "name": "stdout",
     "text": [
      "python version:  3.10.12 (main, Nov 20 2023, 15:14:05) [GCC 11.4.0]\n"
     ]
    }
   ]
  },
  {
   "cell_type": "markdown",
   "source": [
    "# 2. Overview of chosen data"
   ],
   "metadata": {
    "id": "GGi4ozxSr2pY"
   }
  },
  {
   "cell_type": "markdown",
   "source": [
    "For our analysis, we will be working with the top 20 stocks by capitalization from the S&P 500. The main reason for this choice is because:\n",
    "\n",
    "(1) S&P 500 stocks are the most liquid stocks in the markets, which would allow use to act on our prediction with minimal delay\n",
    "\n",
    "(2) S&P 500 companies are subject to high regulatory compliance with high level of capitalization, which make these stocks less subceptible for malpractices and market manimpulation comparing to others\n",
    "\n",
    "We will be using the data from 9/2015 to 12/2019, in which the 4 months period in 2015 will be use as buffer for calculating the technical indicators, data of the period 2016 to 2018 are use for training and 2019 will be use for testing purpose.  "
   ],
   "metadata": {
    "id": "OnRB7191dl8-"
   }
  },
  {
   "cell_type": "markdown",
   "source": [
    "## 2.1. Importing the library"
   ],
   "metadata": {
    "id": "INPZ3CdSooHz"
   }
  },
  {
   "cell_type": "code",
   "source": [
    "pip install yfinance"
   ],
   "metadata": {
    "id": "deMNHfaqlr-I"
   },
   "execution_count": null,
   "outputs": []
  },
  {
   "cell_type": "code",
   "execution_count": null,
   "outputs": [
    {
     "output_type": "error",
     "ename": "SyntaxError",
     "evalue": "invalid syntax (<ipython-input-2-39e281564bab>, line 1)",
     "traceback": [
      "\u001B[0;36m  File \u001B[0;32m\"<ipython-input-2-39e281564bab>\"\u001B[0;36m, line \u001B[0;32m1\u001B[0m\n\u001B[0;31m    pip install yfinance\u001B[0m\n\u001B[0m        ^\u001B[0m\n\u001B[0;31mSyntaxError\u001B[0m\u001B[0;31m:\u001B[0m invalid syntax\n"
     ]
    }
   ],
   "source": [
    "pip install deap"
   ],
   "metadata": {
    "ExecuteTime": {
     "end_time": "2024-04-01T11:45:29.523402300Z",
     "start_time": "2024-04-01T11:45:27.348923400Z"
    },
    "colab": {
     "base_uri": "https://localhost:8080/",
     "height": 106
    },
    "id": "9JWMvapOhpms",
    "outputId": "109be4b9-f35d-4afd-b65e-b78c04bca0c0",
    "collapsed": true
   }
  },
  {
   "cell_type": "code",
   "source": [
    "#@title\n",
    "import yfinance as yf\n",
    "import datetime\n",
    "import pandas as pd\n",
    "import numpy as np\n",
    "import matplotlib.pyplot as plt\n",
    "from sklearn.preprocessing import StandardScaler\n",
    "import matplotlib\n",
    "import sklearn\n",
    "import tensorflow as tf\n",
    "from tensorflow.keras.models import Sequential\n",
    "from tensorflow.keras.layers import LSTM, Dense, Dropout, LeakyReLU\n",
    "from tensorflow.keras.optimizers import Adam\n",
    "import math\n",
    "from sklearn.metrics import mean_squared_error\n",
    "print(\"yfinance version:\", yf.__version__)\n",
    "print(\"Pandas version:\", pd.__version__)\n",
    "print(\"NumPy version:\", np.__version__)\n",
    "print(\"Matplotlib version:\", matplotlib.__version__)\n",
    "print(\"Scikit-learn version:\", sklearn.__version__)\n",
    "print(\"TensorFlow version:\", tf.__version__)"
   ],
   "metadata": {
    "id": "Lq7cCQ7WnYsg",
    "colab": {
     "base_uri": "https://localhost:8080/"
    },
    "outputId": "096bc0dc-2506-437a-9223-6d7af56669f1",
    "cellView": "form"
   },
   "execution_count": null,
   "outputs": [
    {
     "output_type": "stream",
     "name": "stdout",
     "text": [
      "yfinance version: 0.2.37\n",
      "Pandas version: 2.0.3\n",
      "NumPy version: 1.25.2\n",
      "Matplotlib version: 3.7.1\n",
      "Scikit-learn version: 1.2.2\n",
      "TensorFlow version: 2.15.0\n"
     ]
    }
   ]
  },
  {
   "cell_type": "markdown",
   "source": [
    "##2.2. Importing stock data"
   ],
   "metadata": {
    "id": "5bzj9-Ono8EI"
   }
  },
  {
   "cell_type": "code",
   "source": [
    "#@title\n",
    "#TOP 20 STOCKS BY MARKET CAP\n",
    "top_20_sp500_tickers=[\n",
    "    'AAPL', 'MSFT', 'AMZN', 'ABBV',\n",
    "    'GOOGL', 'KO', 'CAT',\n",
    "    'JNJ', 'JPM', 'V', 'PG', 'UNH', 'INTC', 'HD', 'MA', 'VZ', 'T', 'DIS', 'MRK', 'PFE']\n",
    "#Crawling the S&P500 index for comparison\n",
    "sp500_ticker=\"^GSPC\"\n",
    "\n",
    "#Create an empty dictionary to store data\n",
    "SP_stock_data={}\n",
    "start=\"2015-09-01\"  #data start from 9-2015 as buffer for moving average and other momentum index\n",
    "end=\"2020-01-01\"\n",
    "\n",
    "#Download S&P 500 index data\n",
    "try:\n",
    "    SP500_data=yf.download(sp500_ticker, start=start, end=end)\n",
    "except Exception as e:\n",
    "    print(f\"Failed to download data for {sp500_ticker}: {e}\")\n",
    "\n",
    "#Loop through each ticker symbol and download its stock data for 2017\n",
    "all_data_downloaded=True  #Flag to check if all data has been downloaded\n",
    "for ticker in top_20_sp500_tickers:\n",
    "    try:\n",
    "        SP_stock_data[ticker]=yf.download(ticker, start=start, end=end)\n",
    "    except Exception as e:\n",
    "        print(f\"Failed to download data for {ticker}: {e}\")\n"
   ],
   "metadata": {
    "colab": {
     "base_uri": "https://localhost:8080/"
    },
    "id": "8JznSHzTncRQ",
    "outputId": "f2d112da-e5b4-498e-fb3c-36bc2d0ff7c1",
    "cellView": "form",
    "collapsed": true
   },
   "execution_count": null,
   "outputs": [
    {
     "output_type": "stream",
     "name": "stderr",
     "text": [
      "[*********************100%%**********************]  1 of 1 completed\n",
      "[*********************100%%**********************]  1 of 1 completed\n",
      "[*********************100%%**********************]  1 of 1 completed\n",
      "[*********************100%%**********************]  1 of 1 completed\n",
      "[*********************100%%**********************]  1 of 1 completed\n",
      "[*********************100%%**********************]  1 of 1 completed\n",
      "[*********************100%%**********************]  1 of 1 completed\n",
      "[*********************100%%**********************]  1 of 1 completed\n",
      "[*********************100%%**********************]  1 of 1 completed\n",
      "[*********************100%%**********************]  1 of 1 completed\n",
      "[*********************100%%**********************]  1 of 1 completed\n",
      "[*********************100%%**********************]  1 of 1 completed\n",
      "[*********************100%%**********************]  1 of 1 completed\n",
      "[*********************100%%**********************]  1 of 1 completed\n",
      "[*********************100%%**********************]  1 of 1 completed\n",
      "[*********************100%%**********************]  1 of 1 completed\n",
      "[*********************100%%**********************]  1 of 1 completed\n",
      "[*********************100%%**********************]  1 of 1 completed\n",
      "[*********************100%%**********************]  1 of 1 completed\n",
      "[*********************100%%**********************]  1 of 1 completed\n",
      "[*********************100%%**********************]  1 of 1 completed\n"
     ]
    }
   ]
  },
  {
   "cell_type": "code",
   "source": [
    "#@title\n",
    "#URL of the Wikipedia page containing the table\n",
    "url='https://en.wikipedia.org/wiki/S%26P_100'\n",
    "\n",
    "#Read the HTML tables from the URL\n",
    "tables=pd.read_html(url)\n",
    "\n",
    "#Check if tables were found\n",
    "if tables:\n",
    "    #Assume you want the first table found on the page\n",
    "    stock_table=tables[2]  #Index 0 corresponds to the first table\n",
    "else:\n",
    "    print(\"No tables found on the page.\")\n",
    "\n",
    "#Create a list of stock symbols from the dataframe\n",
    "subset_table=stock_table[stock_table['Symbol'].isin(top_20_sp500_tickers)]\n",
    "\n",
    "#Print the subset table\n",
    "print(subset_table)"
   ],
   "metadata": {
    "colab": {
     "base_uri": "https://localhost:8080/"
    },
    "id": "N3jPn4XlEDsT",
    "outputId": "507eaa14-8c65-439d-9b04-0a3cb5702279",
    "cellView": "form"
   },
   "execution_count": null,
   "outputs": [
    {
     "output_type": "stream",
     "name": "stdout",
     "text": [
      "   Symbol                Name                  Sector\n",
      "0    AAPL               Apple  Information Technology\n",
      "1    ABBV              AbbVie             Health Care\n",
      "9    AMZN              Amazon  Consumer Discretionary\n",
      "20    CAT         Caterpillar             Industrials\n",
      "33    DIS              Disney  Communication Services\n",
      "44  GOOGL  Alphabet (Class A)  Communication Services\n",
      "46     HD          Home Depot  Consumer Discretionary\n",
      "49   INTC               Intel  Information Technology\n",
      "51    JNJ   Johnson & Johnson             Health Care\n",
      "52    JPM      JPMorgan Chase              Financials\n",
      "54     KO           Coca-Cola        Consumer Staples\n",
      "59     MA          Mastercard  Information Technology\n",
      "67    MRK               Merck             Health Care\n",
      "69   MSFT           Microsoft  Information Technology\n",
      "76    PFE              Pfizer             Health Care\n",
      "77     PG    Procter & Gamble        Consumer Staples\n",
      "86      T                AT&T  Communication Services\n",
      "92    UNH  UnitedHealth Group             Health Care\n",
      "96      V                Visa  Information Technology\n",
      "97     VZ             Verizon  Communication Services\n"
     ]
    }
   ]
  },
  {
   "cell_type": "markdown",
   "source": [
    "As our trading bot will only consider buy and sell, and not including complex activities like short-selling, so we choose stocks from various industries to maximize investment opportunities even under market down trend."
   ],
   "metadata": {
    "id": "qSJwTkyjvoRH"
   }
  },
  {
   "cell_type": "code",
   "execution_count": null,
   "metadata": {
    "ExecuteTime": {
     "end_time": "2024-04-01T11:45:52.384427600Z",
     "start_time": "2024-04-01T11:45:52.292777200Z"
    },
    "id": "kFCi0owbhpmt"
   },
   "outputs": [],
   "source": [
    "df=SP_stock_data.copy()"
   ]
  },
  {
   "cell_type": "code",
   "source": [
    "#@title\n",
    "#Calculate average closing price for each day across all stocks\n",
    "average_prices=pd.DataFrame()\n",
    "\n",
    "for ticker, stock_df in SP_stock_data.items():\n",
    "      if average_prices.empty:\n",
    "          average_prices=stock_df['Close'].rename(ticker)\n",
    "      else:\n",
    "          average_prices=pd.concat([average_prices, stock_df['Close']], axis=1, keys=[ticker])\n",
    "\n",
    "#Calculate average closing price across all stocks for each day\n",
    "average_prices['Average']=average_prices.mean(axis=1)\n",
    "\n",
    "#Plot both the average closing price and the S&P 500 index\n",
    "plt.figure(figsize=(12, 6))\n",
    "\n",
    "#Plot average closing price with left y-axis\n",
    "plt.plot(average_prices.index, average_prices['Average'], label='Average Closing Price', color='blue')\n",
    "plt.ylabel('Average Closing Price')\n",
    "\n",
    "#Create secondary y-axis for S&P 500 index\n",
    "ax2=plt.gca().twinx()\n",
    "ax2.plot(SP500_data.index, SP500_data['Close'], label='S&P 500 Index', color='red')\n",
    "ax2.set_ylabel('S&P 500 Index')\n",
    "\n",
    "#Additional configurations\n",
    "plt.title('Average Closing Price vs S&P 500 Index')\n",
    "plt.xlabel('Date')\n",
    "plt.legend(loc='upper left')\n",
    "plt.grid(True)\n",
    "plt.show()"
   ],
   "metadata": {
    "colab": {
     "base_uri": "https://localhost:8080/",
     "height": 545
    },
    "id": "T-2ZlQ_SJHpr",
    "outputId": "8d095a33-97c0-48bf-fb37-2eba7c02736a",
    "cellView": "form"
   },
   "execution_count": null,
   "outputs": [
    {
     "output_type": "display_data",
     "data": {
      "text/plain": [
       "<Figure size 1200x600 with 2 Axes>"
      ],
      "image/png": "[encoded data removed]"
     },
     "metadata": {}
    }
   ]
  },
  {
   "cell_type": "markdown",
   "source": [
    "The average closing price of our basket of 20 stocks are present in blue and use the y-axis on the left, while the S&P500 index are presented in red and use the y-axis on the right. We can see that the 2 figures are heavily correlated, since the 20 stocks make up a large portion in term of capitalization of the S&P500 and cover different sectors.\n",
    "We will be using the period from 2016 to end of 2018 for training, and 2019 for testing. While there is a major market downtrend around 12/2018, the overal market movement of these 2 time period are both upward with similar seasonality."
   ],
   "metadata": {
    "id": "NaAFHP6kNEZt"
   }
  },
  {
   "cell_type": "code",
   "source": [
    "#@title\n",
    "start_train='2015-12-31'\n",
    "cutoff_date='2018-12-31'\n",
    "end_test='2019-12-31'\n",
    "\n",
    "#Calculate percentage change of ^GSPC from start of 2016 to end of 2018\n",
    "sp500_pct_change_2016_2018=(SP500_data['Close'].loc[cutoff_date] - SP500_data['Close'].loc[start_train]) / SP500_data['Close'].loc[start_train] * 100\n",
    "\n",
    "#Calculate percentage change of ^GSPC from start to end of 2019\n",
    "sp500_pct_change_2019=SP500_data['Close'].pct_change().loc[cutoff_date:end_test].sum() * 100\n",
    "\n",
    "#Calculate percentage change of average prices from start of 2016 to end of 2018\n",
    "average_prices_pct_change_2016_2018=(average_prices['Average'].loc[cutoff_date] - average_prices['Average'].loc[start_train]) / average_prices['Average'].loc[start_train] * 100\n",
    "\n",
    "#Calculate percentage change of average prices from start to end of 2019\n",
    "average_prices_pct_change_2019=average_prices['Average'].pct_change().loc[cutoff_date:end_test].sum() * 100\n",
    "\n",
    "print(f\"Percentage change of S&P500 from start of 2016 to end of 2018: {sp500_pct_change_2016_2018:.2f}%\")\n",
    "print(f\"Percentage change of S&P500 from start to end of 2019: {sp500_pct_change_2019:.2f}%\")\n",
    "print(f\"Percentage change of average prices from start of 2016 to end of 2018: {average_prices_pct_change_2016_2018:.2f}%\")\n",
    "print(f\"Percentage change of average prices from start to end of 2019: {average_prices_pct_change_2019:.2f}%\")\n"
   ],
   "metadata": {
    "colab": {
     "base_uri": "https://localhost:8080/"
    },
    "id": "2IRXkDjzL7bU",
    "outputId": "4510312e-0a07-4de5-b5f3-127930ee0335",
    "cellView": "form"
   },
   "execution_count": null,
   "outputs": [
    {
     "output_type": "stream",
     "name": "stdout",
     "text": [
      "Percentage change of S&P500 from start of 2016 to end of 2018: 22.65%\n",
      "Percentage change of S&P500 from start to end of 2019: 27.01%\n",
      "Percentage change of average prices from start of 2016 to end of 2018: 49.86%\n",
      "Percentage change of average prices from start to end of 2019: 66.63%\n"
     ]
    }
   ]
  },
  {
   "cell_type": "markdown",
   "source": [
    "Based on the above figure, we can see that the training period profit was heavily affect by the 12/2018 downtrend, and the basket of 20 stocks we picked has a relatively better performance compare to the S&P."
   ],
   "metadata": {
    "id": "PfoAGg1INJUO"
   }
  },
  {
   "cell_type": "code",
   "source": [
    "#@title\n",
    "#We take the index of 2018-12-31 as the cutoff for the training and testing process\n",
    "cutoff_index=SP_stock_data['AAPL'].index.get_loc('2018-12-31')"
   ],
   "metadata": {
    "id": "Wvv2yVB_XZ6U",
    "cellView": "form"
   },
   "execution_count": null,
   "outputs": []
  },
  {
   "cell_type": "markdown",
   "source": [
    "##2.3. Perform feature engineer\n",
    "We calculate various financial technical indicators and compare the result to see if using additional data help with the prediction process. Since we will be using LSTM, a form of recurrent neural network, and as neural network typically can perform feature engineering by itself, so this step can typically be skip. The reason we are doing this is to incorporate information of stock's momentum in a longer period (between 14 to 50 days) than the time window we will be using (1 and 5 days) into the model."
   ],
   "metadata": {
    "id": "e6HkmuFoqQiI"
   }
  },
  {
   "cell_type": "code",
   "execution_count": null,
   "metadata": {
    "ExecuteTime": {
     "end_time": "2024-04-01T11:45:52.437337300Z",
     "start_time": "2024-04-01T11:45:52.347577200Z"
    },
    "id": "8YMQUQsEhpmt",
    "cellView": "form"
   },
   "outputs": [],
   "source": [
    "#@title\n",
    "#Function to calculate technical indicators for a given DataFrame\n",
    "def add_technical_indicators(data):\n",
    "    #Calculate SMAs\n",
    "    data['SMA_10']=data['Close'].rolling(window=10).mean()\n",
    "    data['SMA_20']=data['Close'].rolling(window=20).mean()\n",
    "    data['SMA_50']=data['Close'].rolling(window=50).mean()\n",
    "\n",
    "    #Calculate EMAs\n",
    "    data['EMA_12']=data['Close'].ewm(span=12, adjust=False).mean()\n",
    "    data['EMA_26']=data['Close'].ewm(span=26, adjust=False).mean()\n",
    "\n",
    "    #Calculate RSI\n",
    "    delta=data['Close'].diff(1)\n",
    "    gain=(delta.where(delta > 0, 0)).rolling(window=14).mean()\n",
    "    loss=(-delta.where(delta < 0, 0)).rolling(window=14).mean()\n",
    "    rs=gain / loss\n",
    "    data['RSI']=100 - (100 / (1 + rs))\n",
    "\n",
    "    #Calculate MACD and Signal Line\n",
    "    data['MACD']=data['EMA_12'] - data['EMA_26']\n",
    "    data['Signal_Line']=data['MACD'].ewm(span=9, adjust=False).mean()\n",
    "\n",
    "    return data\n",
    "\n",
    "#Iterate over each ticker in the dictionary and adding technical indicators\n",
    "for ticker in df:\n",
    "    df[ticker]=add_technical_indicators(df[ticker])"
   ]
  },
  {
   "cell_type": "code",
   "execution_count": null,
   "metadata": {
    "ExecuteTime": {
     "end_time": "2024-04-01T11:45:52.560875900Z",
     "start_time": "2024-04-01T11:45:52.519782900Z"
    },
    "id": "3Uc440iLhpmu",
    "cellView": "form"
   },
   "outputs": [],
   "source": [
    "#@title\n",
    "aapl_df=df['AAPL'].drop(columns=['Open', 'High', 'Low', 'Adj Close'])\n",
    "aapl_df=aapl_df.dropna()"
   ]
  },
  {
   "cell_type": "markdown",
   "source": [
    "## 2.4. Predict stock price using LSTM"
   ],
   "metadata": {
    "id": "cf1OlMhRqoYP"
   }
  },
  {
   "cell_type": "markdown",
   "source": [
    "### 2.4.1. Predict using time_step=1"
   ],
   "metadata": {
    "id": "e1a_umQd4Zuz"
   }
  },
  {
   "cell_type": "code",
   "source": [
    "#@title\n",
    "#Extract features and target\n",
    "features_close=aapl_df['Close']\n",
    "features_all=aapl_df.copy()\n",
    "features_tech=aapl_df.drop(columns=['Close'])\n",
    "target=aapl_df['Close']\n",
    "\n",
    "#Scalethe features\n",
    "scaler_features_close=StandardScaler()\n",
    "features_close_scaled=scaler_features_close.fit_transform(features_close.values.reshape(-1,1))\n",
    "\n",
    "scaler_features_all=StandardScaler()\n",
    "features_all_scaled=scaler_features_all.fit_transform(features_all)\n",
    "\n",
    "scaler_features_tech=StandardScaler()\n",
    "features_tech_scaled=scaler_features_tech.fit_transform(features_tech)\n",
    "\n",
    "#Scale the target\n",
    "scaler_target=StandardScaler()\n",
    "target_scaled=scaler_target.fit_transform(target.values.reshape(-1, 1))\n",
    "\n",
    "#Function to create sequences for LSTM model\n",
    "def create_sequences(features, target, time_steps=1):\n",
    "    X, y=[], []\n",
    "    for i in range(len(features) - time_steps):\n",
    "        X.append(features[i:(i + time_steps)])\n",
    "        y.append(target[i + time_steps])\n",
    "    return np.array(X), np.array(y)"
   ],
   "metadata": {
    "cellView": "form",
    "id": "_-ah8_89HHEH"
   },
   "execution_count": null,
   "outputs": []
  },
  {
   "cell_type": "code",
   "source": [
    "#@title\n",
    "time_steps=1\n",
    "X_close, y_close=create_sequences(features_close_scaled, target_scaled, time_steps)\n",
    "X_all, y_all=create_sequences(features_all_scaled, target_scaled, time_steps)\n",
    "X_tech, y_tech=create_sequences(features_tech_scaled, target_scaled, time_steps)\n",
    "\n",
    "\n",
    "#Split the datainto training and test sets\n",
    "split_size= cutoff_index #int(X_close.shape[0] * 0.8)\n",
    "X_train_close, X_test_close=X_close[:split_size], X_close[split_size:]\n",
    "X_train_all, X_test_all=X_all[:split_size], X_all[split_size:]\n",
    "X_train_tech, X_test_tech=X_tech[:split_size], X_tech[split_size:]\n",
    "\n",
    "y_train, y_test=y_close[:split_size], y_close[split_size:]\n",
    "\n",
    "np.random.seed(42)\n",
    "tf.random.set_seed(42)\n",
    "\n",
    "#Define LSTM model for Close feature\n",
    "model_close=Sequential([\n",
    "    LSTM(350, input_shape=(X_train_close.shape[1], X_train_close.shape[2])),\n",
    "    LeakyReLU(alpha=0.01),\n",
    "    Dropout(0.2),\n",
    "    Dense(1)\n",
    "])\n",
    "\n",
    "#Define LSTM model for All features\n",
    "model_all=Sequential([\n",
    "    LSTM(350, input_shape=(X_train_all.shape[1], X_train_all.shape[2])),\n",
    "    LeakyReLU(alpha=0.01),\n",
    "    Dropout(0.2),\n",
    "    Dense(1)\n",
    "])\n",
    "\n",
    "#Define LSTM model for just technical indicators\n",
    "model_tech=Sequential([\n",
    "    LSTM(350, input_shape=(X_train_tech.shape[1], X_train_tech.shape[2])),\n",
    "    LeakyReLU(alpha=0.01),\n",
    "    Dropout(0.2),\n",
    "    Dense(1)\n",
    "])\n",
    "\n",
    "#Compile the models\n",
    "optimizer_close=Adam(learning_rate=0.001, clipvalue=1.0)\n",
    "model_close.compile(optimizer=optimizer_close, loss='mean_squared_error')\n",
    "optimizer_all=Adam(learning_rate=0.001, clipvalue=1.0)\n",
    "model_all.compile(optimizer=optimizer_all, loss='mean_squared_error')\n",
    "optimizer_tech=Adam(learning_rate=0.001, clipvalue=1.0)\n",
    "model_tech.compile(optimizer=optimizer_tech, loss='mean_squared_error')\n",
    "\n",
    "#Train the models\n",
    "history_close=model_close.fit(X_train_close, y_train, epochs=20, validation_split=0.2, verbose=0, batch_size=64)\n",
    "history_all=model_all.fit(X_train_all, y_train, epochs=20, validation_split=0.2, verbose=0, batch_size=64)\n",
    "history_tech=model_tech.fit(X_train_tech, y_train, epochs=20, validation_split=0.2, verbose=0, batch_size=64)\n",
    "\n",
    "#Predictions on test set for Close feature\n",
    "predictions_test_scaled_close=model_close.predict(X_test_close)\n",
    "predictions_test_close=scaler_target.inverse_transform(predictions_test_scaled_close)\n",
    "\n",
    "#Predictions on test set for All features\n",
    "predictions_test_scaled_all=model_all.predict(X_test_all)\n",
    "predictions_test_all=scaler_target.inverse_transform(predictions_test_scaled_all)\n",
    "\n",
    "#Predictions on test set for just technical features\n",
    "predictions_test_scaled_tech=model_tech.predict(X_test_tech)\n",
    "predictions_test_tech=scaler_target.inverse_transform(predictions_test_scaled_tech)\n",
    "\n",
    "#Evaluate the models with Mean Squared Error on test data\n",
    "mse_test_close=mean_squared_error(scaler_target.inverse_transform(y_test), predictions_test_close)\n",
    "mse_test_all=mean_squared_error(scaler_target.inverse_transform(y_test), predictions_test_all)\n",
    "mse_test_tech=mean_squared_error(scaler_target.inverse_transform(y_test), predictions_test_tech)\n",
    "\n",
    "print(f'Test Mean Squared Error for Close feature: {mse_test_close}')\n",
    "print(f'Test Mean Squared Error for All features: {mse_test_all}')\n",
    "print(f'Test Mean Squared Error for Technical features: {mse_test_tech}')\n",
    "\n",
    "#Plotting actual vs. predicted prices on test data\n",
    "plt.figure(figsize=(10, 6))\n",
    "plt.plot(scaler_target.inverse_transform(y_test), label='Actual Price')\n",
    "plt.plot(predictions_test_close, label='Predicted Price - only Closing price')\n",
    "plt.plot(predictions_test_all, label='Predicted Price - Closing price + technical indicators')\n",
    "plt.plot(predictions_test_tech, label='Predicted Price - only technical indicators')\n",
    "plt.title('AAPL Stock Price Prediction - Test Set')\n",
    "plt.xlabel('Time')\n",
    "plt.ylabel('Stock Price')\n",
    "plt.legend()\n",
    "plt.show()\n"
   ],
   "metadata": {
    "colab": {
     "base_uri": "https://localhost:8080/",
     "height": 668
    },
    "id": "H8zi4FQds4Mv",
    "outputId": "ba5d4a0f-1b1e-4351-e40f-a041fe07720d",
    "cellView": "form"
   },
   "execution_count": null,
   "outputs": [
    {
     "output_type": "stream",
     "name": "stdout",
     "text": [
      "7/7 [==============================] - 0s 4ms/step\n",
      "7/7 [==============================] - 0s 5ms/step\n",
      "7/7 [==============================] - 0s 4ms/step\n",
      "Test Mean Squared Error for Close feature: 34.47169705504316\n",
      "Test Mean Squared Error for All features: 1.212663186801293\n",
      "Test Mean Squared Error for Technical features: 2.904653643020139\n"
     ]
    },
    {
     "output_type": "display_data",
     "data": {
      "text/plain": [
       "<Figure size 1000x600 with 1 Axes>"
      ],
      "image/png": "[encoded data removed]"
     },
     "metadata": {}
    }
   ]
  },
  {
   "cell_type": "markdown",
   "source": [
    "### 2.4.2. Predict using time_step=5"
   ],
   "metadata": {
    "id": "5Qybmvum4oFk"
   }
  },
  {
   "cell_type": "code",
   "source": [
    "#@title\n",
    "#Define time steps and create sequences\n",
    "time_steps=5\n",
    "X_close, y_close=create_sequences(features_close_scaled, target_scaled, time_steps)\n",
    "X_all, y_all=create_sequences(features_all_scaled, target_scaled, time_steps)\n",
    "X_tech, y_tech=create_sequences(features_tech_scaled, target_scaled, time_steps)\n",
    "\n",
    "#Split the data into training and testsets\n",
    "split_size=int(X_close.shape[0] * 0.8)\n",
    "X_train_close, X_test_close=X_close[:split_size], X_close[split_size:]\n",
    "X_train_all, X_test_all=X_all[:split_size], X_all[split_size:]\n",
    "X_train_tech, X_test_tech=X_tech[:split_size], X_tech[split_size:]\n",
    "\n",
    "y_train, y_test=y_close[:split_size], y_close[split_size:]\n",
    "\n",
    "np.random.seed(42)\n",
    "tf.random.set_seed(42)\n",
    "\n",
    "#Define LSTM model for Close feature\n",
    "model_close=Sequential([\n",
    "    LSTM(350, input_shape=(X_train_close.shape[1], X_train_close.shape[2])),\n",
    "    LeakyReLU(alpha=0.01),\n",
    "    Dropout(0.2),\n",
    "    Dense(1)\n",
    "])\n",
    "\n",
    "#Define LSTM model for All features\n",
    "model_all=Sequential([\n",
    "    LSTM(350, input_shape=(X_train_all.shape[1], X_train_all.shape[2])),\n",
    "    LeakyReLU(alpha=0.01),\n",
    "    Dropout(0.2),\n",
    "    Dense(1)\n",
    "])\n",
    "\n",
    "#Define LSTM model for just technical indicators\n",
    "model_tech=Sequential([\n",
    "    LSTM(350, input_shape=(X_train_tech.shape[1], X_train_tech.shape[2])),\n",
    "    LeakyReLU(alpha=0.01),\n",
    "    Dropout(0.2),\n",
    "    Dense(1)\n",
    "])\n",
    "\n",
    "#Compile the models\n",
    "optimizer_close=Adam(learning_rate=0.001, clipvalue=1.0)\n",
    "model_close.compile(optimizer=optimizer_close, loss='mean_squared_error')\n",
    "optimizer_all=Adam(learning_rate=0.001, clipvalue=1.0)\n",
    "model_all.compile(optimizer=optimizer_all, loss='mean_squared_error')\n",
    "optimizer_tech=Adam(learning_rate=0.001, clipvalue=1.0)\n",
    "model_tech.compile(optimizer=optimizer_tech, loss='mean_squared_error')\n",
    "\n",
    "#Train the models\n",
    "history_close=model_close.fit(X_train_close, y_train, epochs=20, validation_split=0.2, verbose=0, batch_size=64)\n",
    "history_all=model_all.fit(X_train_all, y_train, epochs=20, validation_split=0.2, verbose=0, batch_size=64)\n",
    "history_tech=model_tech.fit(X_train_tech, y_train, epochs=20, validation_split=0.2, verbose=0, batch_size=64)\n",
    "\n",
    "#Predictions on test set for Close feature\n",
    "predictions_test_scaled_close=model_close.predict(X_test_close)\n",
    "predictions_test_close=scaler_target.inverse_transform(predictions_test_scaled_close)\n",
    "\n",
    "#Predictions on test set for All features\n",
    "predictions_test_scaled_all=model_all.predict(X_test_all)\n",
    "predictions_test_all=scaler_target.inverse_transform(predictions_test_scaled_all)\n",
    "\n",
    "#Predictions on test set for just technical features\n",
    "predictions_test_scaled_tech=model_tech.predict(X_test_tech)\n",
    "predictions_test_tech=scaler_target.inverse_transform(predictions_test_scaled_tech)"
   ],
   "metadata": {
    "cellView": "form",
    "id": "xOmEZKLaciar",
    "colab": {
     "base_uri": "https://localhost:8080/"
    },
    "outputId": "99ed3e86-4078-4d16-b19f-8ef6d5a712b9"
   },
   "execution_count": null,
   "outputs": [
    {
     "output_type": "stream",
     "name": "stdout",
     "text": [
      "7/7 [==============================] - 0s 8ms/step\n",
      "7/7 [==============================] - 0s 8ms/step\n",
      "7/7 [==============================] - 0s 8ms/step\n"
     ]
    }
   ]
  },
  {
   "cell_type": "code",
   "source": [
    "#@title\n",
    "#Evaluate the models with Mean Squared Error on test data\n",
    "mse_test_close=mean_squared_error(scaler_target.inverse_transform(y_test), predictions_test_close)\n",
    "mse_test_all=mean_squared_error(scaler_target.inverse_transform(y_test), predictions_test_all)\n",
    "mse_test_tech=mean_squared_error(scaler_target.inverse_transform(y_test), predictions_test_tech)\n",
    "\n",
    "print(f'Test Mean Squared Error for Close feature: {mse_test_close}')\n",
    "print(f'Test Mean Squared Error for All features: {mse_test_all}')\n",
    "print(f'Test Mean Squared Error for Technical features: {mse_test_tech}')\n",
    "\n",
    "#Plotting actual vs. predicted prices on test data\n",
    "plt.figure(figsize=(10, 6))\n",
    "plt.plot(scaler_target.inverse_transform(y_test), label='Actual Price')\n",
    "plt.plot(predictions_test_close, label='Predicted Price - only Closing price')\n",
    "plt.plot(predictions_test_all, label='Predicted Price - Closing price + technical indicators')\n",
    "plt.plot(predictions_test_tech, label='Predicted Price - only technical indicators')\n",
    "plt.title('AAPL Stock Price Prediction - Test Set')\n",
    "plt.xlabel('Time')\n",
    "plt.ylabel('Stock Price')\n",
    "plt.legend()\n",
    "plt.show()"
   ],
   "metadata": {
    "colab": {
     "base_uri": "https://localhost:8080/",
     "height": 616
    },
    "id": "iVa-m6T48y_8",
    "outputId": "08fee4f1-83af-4152-b113-aa95e93b4b65",
    "cellView": "form"
   },
   "execution_count": null,
   "outputs": [
    {
     "output_type": "stream",
     "name": "stdout",
     "text": [
      "Test Mean Squared Error for Close feature: 3.6492508098265786\n",
      "Test Mean Squared Error for All features: 1.468306868091811\n",
      "Test Mean Squared Error for Technical features: 1.802232411033961\n"
     ]
    },
    {
     "output_type": "display_data",
     "data": {
      "text/plain": [
       "<Figure size 1000x600 with 1 Axes>"
      ],
      "image/png": "[encoded data removed]"
     },
     "metadata": {}
    }
   ]
  },
  {
   "cell_type": "markdown",
   "source": [
    "We performed prediction 2 time window of 1 and 5 trading days (equivalent to 1 week) with 3 combination of data which are:\n",
    "- Close: just using previous day(s) closing price of the stock\n",
    "- All: using previous day(s) closing price along with 10 technical indicators\n",
    "- Technical: just using the 10 technical indcators\n",
    "\n",
    "Overall, We observe that adding the technical indicators into the model does improve the prediction. And while using a time window of 5 days slightly reduce the All prediction, as this seem to improve the Close and Technical prediction, we will be training the prediction model using 5 days of All data to predict the next day Closing price."
   ],
   "metadata": {
    "id": "5-vIHvWiQtXS"
   }
  },
  {
   "cell_type": "markdown",
   "source": [
    "## 2.5. Applying the model to all of the stocks"
   ],
   "metadata": {
    "id": "U7_WL9np7cFC"
   }
  },
  {
   "cell_type": "code",
   "execution_count": null,
   "metadata": {
    "ExecuteTime": {
     "end_time": "2024-04-01T11:45:59.213887700Z",
     "start_time": "2024-04-01T11:45:59.197248800Z"
    },
    "id": "PIdxaWRrhpmv",
    "cellView": "form"
   },
   "outputs": [],
   "source": [
    "#@title\n",
    "#Dictionary to hold cleaned data\n",
    "cleaned_data={}\n",
    "\n",
    "for ticker, data in SP_stock_data.items():\n",
    "    cleaned_data[ticker]=data.dropna()\n",
    "\n",
    "#Track the shapes and their counts\n",
    "shape_counts={}\n",
    "\n",
    "for data in cleaned_data.values():\n",
    "    shape=data.shape\n",
    "    if shape in shape_counts:\n",
    "        shape_counts[shape] += 1\n",
    "    else:\n",
    "        shape_counts[shape]=1\n",
    "\n",
    "#Determine the most common shape\n",
    "most_common_shape=max(shape_counts, key=shape_counts.get)\n",
    "\n",
    "#Filter datasets by the most common shape\n",
    "filtered_data={ticker: data for ticker, data in cleaned_data.items() if data.shape == most_common_shape}\n",
    "\n",
    "#Print the tickers and shapes of the remaining datasets\n",
    "#for ticker, data in filtered_data.items():\n",
    "#   print(f\"{ticker} data shape: {data.shape}\")"
   ]
  },
  {
   "cell_type": "code",
   "execution_count": null,
   "metadata": {
    "ExecuteTime": {
     "end_time": "2024-04-01T11:45:59.300331400Z",
     "start_time": "2024-04-01T11:45:59.288983200Z"
    },
    "id": "jwzsY0uYhpmv",
    "cellView": "form"
   },
   "outputs": [],
   "source": [
    "#@title\n",
    "modified_data={}\n",
    "for ticker, df in filtered_data.items():\n",
    "    modified_df=df.drop(columns=[ 'Adj Close', ])\n",
    "    modified_data[ticker]=modified_df"
   ]
  },
  {
   "cell_type": "markdown",
   "source": [
    "We will loop through the 20 stocks, train 20 models (1 for each stocks), then using the resulting models to perform 2 predictions: (1) for the training period and (2) for the testing period\n"
   ],
   "metadata": {
    "id": "M0vO6yKqsn0F"
   }
  },
  {
   "cell_type": "code",
   "source": [
    "#@title\n",
    "#Set random seed for reproducibility\n",
    "np.random.seed(42)\n",
    "tf.random.set_seed(42)\n",
    "\n",
    "train_data={}\n",
    "\n",
    "for ticker, df in filtered_data.items():\n",
    "    #Filter the DataFrame for entries from 2016 to 2019\n",
    "    df_filtered=df[(df.index >= \"2016-01-01\") & (df.index < \"2020-01-01\")]\n",
    "    df_filtered=df_filtered.drop(columns=['Adj Close'], errors='ignore')\n",
    "\n",
    "    #Store the filtered data in the new dictionary\n",
    "    train_data[ticker]=df_filtered\n",
    "\n",
    "#Modified predictions storage to include dates, predictions, and actual prices\n",
    "predictions_and_actuals_test={}\n",
    "mse_values=[]\n",
    "\n",
    "#Initialize dictionaries for storing training predictions and MSE values\n",
    "predictions_and_actuals={}\n",
    "train_mse_values=[]\n",
    "\n",
    "#Function to create sequences for LSTM model, modified to return the remaining dates\n",
    "def create_sequences(features, target, dates, time_steps=1):\n",
    "    X, y, dates_seq=[], [], []\n",
    "    for i in range(len(features) - time_steps):\n",
    "        X.append(features[i:(i + time_steps)])\n",
    "        y.append(target[i + time_steps])\n",
    "        dates_seq.append(dates[i + time_steps])  #Capture the corresponding date\n",
    "    return np.array(X), np.array(y), np.array(dates_seq)\n",
    "\n",
    "#Loop through each ticker's data\n",
    "for ticker, df in train_data.items():\n",
    "    print(f\"Processing {ticker}...\")\n",
    "    df=df.dropna()\n",
    "\n",
    "    features=df.copy()\n",
    "    target=df['Close']\n",
    "    dates=df.index\n",
    "\n",
    "    scaler_features=StandardScaler()\n",
    "    features_scaled=scaler_features.fit_transform(features)\n",
    "\n",
    "    scaler_target=StandardScaler()\n",
    "    target_scaled=scaler_target.fit_transform(target.values.reshape(-1, 1))\n",
    "\n",
    "    #Define time steps and create sequences\n",
    "    time_steps=5\n",
    "    X, y, dates_seq=create_sequences(features_scaled, target_scaled, dates, time_steps)\n",
    "\n",
    "    #Split the data into training and test sets\n",
    "    split_size=int(X.shape[0] * 0.75)\n",
    "    X_train, X_test=X[:split_size], X[split_size:]\n",
    "    y_train, y_test=y[:split_size], y[split_size:]\n",
    "    dates_train, dates_test=dates_seq[:split_size], dates_seq[split_size:]\n",
    "\n",
    "    #Define and compile the LSTM model\n",
    "    model=Sequential([\n",
    "        LSTM(400, input_shape=(X_train.shape[1], X_train.shape[2])),\n",
    "        LeakyReLU(alpha=0.01),\n",
    "        Dropout(0.2),\n",
    "        Dense(1)\n",
    "    ])\n",
    "    optimizer=Adam(learning_rate=0.001, clipvalue=1.0)\n",
    "    model.compile(optimizer=optimizer, loss='mean_squared_error')\n",
    "\n",
    "    #Train the model\n",
    "    model.fit(X_train, y_train, epochs=20, validation_split=0.2, verbose=0, batch_size=64)\n",
    "\n",
    "    #Making predictions for the training period (2016-2018)\n",
    "    predictions_scaled=model.predict(X_train)\n",
    "    predictions=scaler_target.inverse_transform(predictions_scaled)\n",
    "    actuals=scaler_target.inverse_transform(y_train.reshape(-1, 1))\n",
    "\n",
    "    #Calculating MSE forthe predictions\n",
    "    mse=mean_squared_error(actuals, predictions)\n",
    "    train_mse_values.append((ticker, mse))\n",
    "    print(f\"{ticker} - Training Period MSE: {mse}\")\n",
    "\n",
    "    #Storing predictions and actuals for 2016-2018\n",
    "    predictions_and_actuals[ticker]=pd.DataFrame({\n",
    "        'Date': dates_train,\n",
    "        'Predictions': predictions.flatten(),\n",
    "        'Actuals': scaler_target.inverse_transform(y_train).flatten()\n",
    "    })\n",
    "\n",
    "\n",
    "    #Predictions on test set\n",
    "    predictions_test_scaled=model.predict(X_test)\n",
    "    predictions_test=scaler_target.inverse_transform(predictions_test_scaled)\n",
    "\n",
    "    #Getting the actual prices for the test set (inverse transform)\n",
    "    actual_prices=scaler_target.inverse_transform(y_test)\n",
    "\n",
    "    #Storing combined data in the dictionary\n",
    "    predictions_and_actuals_test[ticker]=pd.DataFrame({\n",
    "        'Date': dates_test,\n",
    "        'Predictions': predictions_test.flatten(),\n",
    "        'Actuals': actual_prices.flatten()\n",
    "    })\n",
    "\n",
    "    #Optional: Evaluate the model with MSE and plot predictions for each stock\n",
    "    mse_test=mean_squared_error(actual_prices, predictions_test)\n",
    "    print(f'{ticker} Test MSE: {mse_test}')\n",
    "\n",
    "    #Inside your loop, after calculating the MSE for a ticker:\n",
    "    mse_test=mean_squared_error(actual_prices, predictions_test)\n",
    "    mse_values.append((ticker, mse_test))\n",
    "\n",
    "    #Define the file path where you want to save the model\n",
    "#   model_path=f\"{ticker}_model.h5\"\n",
    "\n",
    "    #Save the trained model to the specified file path\n",
    "#  model.save(model_path)"
   ],
   "metadata": {
    "colab": {
     "base_uri": "https://localhost:8080/"
    },
    "cellView": "form",
    "id": "kF0NizFkj2aV",
    "outputId": "0ca2d393-336d-4c0b-dfc3-5a88c78ec453"
   },
   "execution_count": null,
   "outputs": [
    {
     "output_type": "stream",
     "name": "stdout",
     "text": [
      "Processing AAPL...\n",
      "24/24 [==============================] - 1s 8ms/step\n",
      "AAPL - Training Period MSE: 1.1511836915712435\n",
      "8/8 [==============================] - 0s 9ms/step\n",
      "AAPL Test MSE: 2.9938854703511435\n",
      "Processing MSFT...\n",
      "24/24 [==============================] - 1s 9ms/step\n",
      "MSFT - Training Period MSE: 1.7759610579434473\n",
      "8/8 [==============================] - 0s 7ms/step\n",
      "MSFT Test MSE: 18.24175733938072\n",
      "Processing AMZN...\n",
      "24/24 [==============================] - 1s 7ms/step\n",
      "AMZN - Training Period MSE: 3.226963040242966\n",
      "8/8 [==============================] - 0s 6ms/step\n",
      "AMZN Test MSE: 4.203007183394365\n",
      "Processing ABBV...\n",
      "24/24 [==============================] - 1s 7ms/step\n",
      "ABBV - Training Period MSE: 3.933995855152044\n",
      "8/8 [==============================] - 0s 7ms/step\n",
      "ABBV Test MSE: 3.8564977898992123\n",
      "Processing GOOGL...\n",
      "24/24 [==============================] - 1s 8ms/step\n",
      "GOOGL - Training Period MSE: 0.7622460583656211\n",
      "8/8 [==============================] - 0s 8ms/step\n",
      "GOOGL Test MSE: 2.1000438270313744\n",
      "Processing KO...\n",
      "24/24 [==============================] - 1s 7ms/step\n",
      "KO - Training Period MSE: 0.5478419799247835\n",
      "8/8 [==============================] - 0s 7ms/step\n",
      "KO Test MSE: 11.761401694987988\n",
      "Processing CAT...\n",
      "24/24 [==============================] - 0s 6ms/step\n",
      "CAT - Training Period MSE: 9.052950049072251\n",
      "8/8 [==============================] - 0s 6ms/step\n",
      "CAT Test MSE: 16.0670541816148\n",
      "Processing JNJ...\n",
      "24/24 [==============================] - 0s 7ms/step\n",
      "JNJ - Training Period MSE: 2.6094382292035347\n",
      "8/8 [==============================] - 0s 8ms/step\n",
      "JNJ Test MSE: 3.2443722499851266\n",
      "Processing JPM...\n",
      "24/24 [==============================] - 1s 6ms/step\n",
      "JPM - Training Period MSE: 2.6516335949880694\n",
      "8/8 [==============================] - 0s 8ms/step\n",
      "JPM Test MSE: 5.817569402243155\n",
      "Processing V...\n",
      "24/24 [==============================] - 0s 7ms/step\n",
      "V - Training Period MSE: 3.5757033250979147\n",
      "8/8 [==============================] - 0s 6ms/step\n",
      "V Test MSE: 16.1072294087895\n",
      "Processing PG...\n",
      "24/24 [==============================] - 0s 6ms/step\n",
      "PG - Training Period MSE: 0.9206048982972279\n",
      "8/8 [==============================] - 0s 7ms/step\n",
      "PG Test MSE: 24.81401505015361\n",
      "Processing UNH...\n",
      "24/24 [==============================] - 1s 11ms/step\n",
      "UNH - Training Period MSE: 12.90242728123938\n",
      "8/8 [==============================] - 0s 15ms/step\n",
      "UNH Test MSE: 61.379357890107215\n",
      "Processing INTC...\n",
      "24/24 [==============================] - 1s 11ms/step\n",
      "INTC - Training Period MSE: 1.5933670336838743\n",
      "8/8 [==============================] - 0s 11ms/step\n",
      "INTC Test MSE: 4.579367610571135\n",
      "Processing HD...\n",
      "24/24 [==============================] - 1s 7ms/step\n",
      "HD - Training Period MSE: 10.214883556572255\n",
      "8/8 [==============================] - 0s 8ms/step\n",
      "HD Test MSE: 86.67654387351678\n",
      "Processing MA...\n",
      "24/24 [==============================] - 0s 7ms/step\n",
      "MA - Training Period MSE: 12.855937551974861\n",
      "8/8 [==============================] - 0s 7ms/step\n",
      "MA Test MSE: 62.22202054212757\n",
      "Processing VZ...\n",
      "24/24 [==============================] - 1s 10ms/step\n",
      "VZ - Training Period MSE: 0.4249369976582821\n",
      "8/8 [==============================] - 0s 11ms/step\n",
      "VZ Test MSE: 1.1536061291507398\n",
      "Processing T...\n",
      "24/24 [==============================] - 1s 8ms/step\n",
      "T - Training Period MSE: 0.19780989795158288\n",
      "8/8 [==============================] - 0s 10ms/step\n",
      "T Test MSE: 0.37378921565272527\n",
      "Processing DIS...\n",
      "24/24 [==============================] - 1s 8ms/step\n",
      "DIS - Training Period MSE: 2.0689403782882727\n",
      "8/8 [==============================] - 0s 8ms/step\n",
      "DIS Test MSE: 41.790411242859925\n",
      "Processing MRK...\n",
      "24/24 [==============================] - 1s 8ms/step\n",
      "MRK - Training Period MSE: 2.257732284556046\n",
      "8/8 [==============================] - 0s 8ms/step\n",
      "MRK Test MSE: 56.33208657198702\n",
      "Processing PFE...\n",
      "24/24 [==============================] - 1s 8ms/step\n",
      "PFE - Training Period MSE: 2.0981041048567373\n",
      "8/8 [==============================] - 0s 8ms/step\n",
      "PFE Test MSE: 4.63807341873143\n"
     ]
    }
   ]
  },
  {
   "cell_type": "markdown",
   "metadata": {
    "id": "2Nd720XQhpmv"
   },
   "source": [
    "##2.6. Evaluate the prediction"
   ]
  },
  {
   "cell_type": "code",
   "source": [
    "#@title\n",
    "train_mse_df=pd.DataFrame(train_mse_values, columns=['Stocks','MSE'])\n",
    "sorted_mse=train_mse_df.sort_values(by='MSE')\n",
    "print(sorted_mse)\n",
    "\n",
    "total_mse=0\n",
    "for _, mse in train_mse_values:\n",
    "    total_mse += mse  #Summing up all the MSE values\n",
    "average_mse=total_mse / len(train_mse_values)  #Calculating the average\n",
    "print(f\"Average MSE across all tickers: {average_mse}\")\n",
    "#Extract MSE values from the list of tuples\n",
    "mse_list=[mse for _, mse in train_mse_values]\n",
    "#Sort the list of MSE values\n",
    "mse_list.sort()\n",
    "#Calculate the median\n",
    "if len(mse_list) % 2 == 1:  #Odd number of elements\n",
    "    median_mse=mse_list[len(mse_list) // 2]\n",
    "else:  #Even number of elements, average the two middle values\n",
    "    mid_index=len(mse_list) // 2\n",
    "    median_mse=(mse_list[mid_index - 1] + mse_list[mid_index]) / 2\n",
    "print(f\"Median MSE across all tickers: {median_mse}\")"
   ],
   "metadata": {
    "cellView": "form",
    "id": "OYMV7kz3qhUr",
    "colab": {
     "base_uri": "https://localhost:8080/"
    },
    "outputId": "088f3704-9ac7-41d4-a214-af27df2e0adf"
   },
   "execution_count": null,
   "outputs": [
    {
     "output_type": "stream",
     "name": "stdout",
     "text": [
      "   Stocks        MSE\n",
      "16      T   0.202206\n",
      "15     VZ   0.449939\n",
      "5      KO   0.671687\n",
      "4   GOOGL   0.743993\n",
      "10     PG   0.961874\n",
      "0    AAPL   1.071749\n",
      "19    PFE   1.490650\n",
      "1    MSFT   1.786262\n",
      "18    MRK   1.825797\n",
      "12   INTC   2.006049\n",
      "17    DIS   2.010660\n",
      "8     JPM   2.151407\n",
      "7     JNJ   2.524676\n",
      "9       V   3.082261\n",
      "2    AMZN   3.247305\n",
      "3    ABBV   4.018234\n",
      "6     CAT   8.958984\n",
      "13     HD   9.572498\n",
      "11    UNH  12.104260\n",
      "14     MA  14.108120\n",
      "Average MSE across all tickers: 3.64943058512639\n",
      "Median MSE across all tickers: 2.008354703836376\n"
     ]
    }
   ]
  },
  {
   "cell_type": "code",
   "execution_count": null,
   "metadata": {
    "ExecuteTime": {
     "end_time": "2024-04-01T11:47:20.161571100Z",
     "start_time": "2024-04-01T11:47:20.155675400Z"
    },
    "id": "jeoyfErWhpmw",
    "cellView": "form",
    "colab": {
     "base_uri": "https://localhost:8080/"
    },
    "outputId": "9eabd15d-387c-4198-cc82-e0ab6836002b"
   },
   "outputs": [
    {
     "output_type": "stream",
     "name": "stdout",
     "text": [
      "   Stocks        MSE\n",
      "16      T   0.347508\n",
      "15     VZ   1.261946\n",
      "0    AAPL   2.535253\n",
      "7     JNJ   3.480332\n",
      "19    PFE   3.531944\n",
      "4   GOOGL   3.607010\n",
      "3    ABBV   3.957313\n",
      "8     JPM   4.583970\n",
      "12   INTC   6.011559\n",
      "2    AMZN   8.660538\n",
      "5      KO  11.043133\n",
      "6     CAT  17.360109\n",
      "10     PG  20.009045\n",
      "9       V  20.903300\n",
      "1    MSFT  24.482488\n",
      "18    MRK  43.265220\n",
      "11    UNH  55.595540\n",
      "17    DIS  63.319656\n",
      "14     MA  79.358931\n",
      "13     HD  95.828879\n",
      "Average MSE across all tickers: 23.45718364760329\n",
      "Median MSE across all tickers: 9.8518356511353\n"
     ]
    }
   ],
   "source": [
    "#@title\n",
    "mse_df=pd.DataFrame(mse_values, columns=['Stocks','MSE'])\n",
    "sorted_mse=mse_df.sort_values(by='MSE')\n",
    "print(sorted_mse)\n",
    "\n",
    "total_mse=0\n",
    "for _, mse in mse_values:\n",
    "    total_mse += mse  #Summing up all the MSE values\n",
    "average_mse=total_mse / len(mse_values)  #Calculating the average\n",
    "print(f\"Average MSE across all tickers: {average_mse}\")\n",
    "#Extract MSE values from the list of tuples\n",
    "mse_list=[mse for _, mse in mse_values]\n",
    "#Sort the list of MSE values\n",
    "mse_list.sort()\n",
    "#Calculate the median\n",
    "if len(mse_list) % 2 == 1:  #Odd number of elements\n",
    "    median_mse=mse_list[len(mse_list) // 2]\n",
    "else:  #Even number of elements, average the two middle values\n",
    "    mid_index=len(mse_list) // 2\n",
    "    median_mse=(mse_list[mid_index - 1] + mse_list[mid_index]) / 2\n",
    "print(f\"Median MSE across all tickers: {median_mse}\")"
   ]
  },
  {
   "cell_type": "markdown",
   "source": [
    "# 3. Developing trading strategy"
   ],
   "metadata": {
    "id": "MIfIM5K98Mhm"
   }
  },
  {
   "cell_type": "markdown",
   "metadata": {
    "id": "W1YRPEGphpmw"
   },
   "source": [
    "### Agent Trading an individual stock"
   ]
  },
  {
   "cell_type": "markdown",
   "metadata": {
    "id": "ysc7vyABhpmw"
   },
   "source": [
    "#### Set up data"
   ]
  },
  {
   "cell_type": "code",
   "execution_count": null,
   "metadata": {
    "ExecuteTime": {
     "end_time": "2024-04-01T11:47:20.284711900Z",
     "start_time": "2024-04-01T11:47:20.211441700Z"
    },
    "id": "dwrxJ3mPhpmw",
    "cellView": "form"
   },
   "outputs": [],
   "source": [
    "#@title Evaluation setup\n",
    "def process_eval_data(filtered_data, predictions_and_actuals, columns_to_drop):\n",
    "    eval_data={}\n",
    "    for ticker, df in filtered_data.items():\n",
    "        #Sorting and merging steps\n",
    "        df_sorted=df.sort_index()\n",
    "        pred_df=predictions_and_actuals[ticker]\n",
    "        pred_df_sorted=pred_df.sort_values(by='Date')\n",
    "        pred_df_sorted['Date']=pd.to_datetime(pred_df_sorted['Date'])\n",
    "        merged_df=pd.merge(df_sorted, pred_df_sorted, left_index=True, right_on='Date', how='right')\n",
    "\n",
    "        #Calculation steps for predictions, actuals, and indicators\n",
    "        merged_df['Pred_Percent_Change']=((merged_df['Predictions'] - merged_df['Close']) / merged_df['Close']) * 100\n",
    "        merged_df['Actual_Percent_Change']=((merged_df['Close'] - merged_df['Open']) / merged_df['Open']) * 100\n",
    "        merged_df=merged_df.drop(columns=[col for col in columns_to_drop if col in merged_df.columns])\n",
    "        merged_df['Pred_Binary_Indicator']=np.where(merged_df['Pred_Percent_Change'] > 0, 1, -1)\n",
    "        merged_df['Lagged_Pred_Binary_Indicator']=merged_df['Pred_Binary_Indicator'].shift(1)\n",
    "\n",
    "        eval_data[ticker]=merged_df\n",
    "    return eval_data\n",
    "\n",
    "#Define columns to drop\n",
    "columns_to_drop=[]\n",
    "#columns_to_drop=['MA_10', 'SMA_20', 'SMA_50', 'EMA_12', 'RSI', 'MACD', 'Signal_Line', 'SMA_10', 'EMA_26']\n",
    "\n",
    "#Process data for training and testing datasets\n",
    "eval_data=process_eval_data(filtered_data, predictions_and_actuals, columns_to_drop)\n",
    "\n",
    "eval_data_test=process_eval_data(filtered_data, predictions_and_actuals_test, columns_to_drop)"
   ]
  },
  {
   "cell_type": "markdown",
   "metadata": {
    "id": "m0m9--h7hpmy"
   },
   "source": [
    "#### Trading Rules\n",
    "\n",
    "The agent buys when there is a buy indicator Pre_Binary_Indicator, and sells when it's negative"
   ]
  },
  {
   "cell_type": "code",
   "execution_count": null,
   "metadata": {
    "ExecuteTime": {
     "end_time": "2024-04-01T11:47:20.329550600Z",
     "start_time": "2024-04-01T11:47:20.298827500Z"
    },
    "id": "SQLKlfUnhpmy",
    "colab": {
     "base_uri": "https://localhost:8080/"
    },
    "cellView": "form",
    "outputId": "8c7f61fb-60e0-4852-90da-06f32c55d7d3"
   },
   "outputs": [
    {
     "output_type": "stream",
     "name": "stdout",
     "text": [
      "Bought 277.0 shares at: $35.99 on 2019-01-03 00:00:00, Remaining cash: $29.39\n",
      "Sold 0 shares at: $40.81 on 2019-01-30 00:00:00, Cash after sale: $11334.45\n",
      "Bought 262.0 shares at: $43.10 on 2019-02-07 00:00:00, Remaining cash: $42.25\n",
      "Sold 0 shares at: $42.53 on 2019-02-12 00:00:00, Cash after sale: $11183.80\n",
      "Bought 254.0 shares at: $43.99 on 2019-03-05 00:00:00, Remaining cash: $11.61\n",
      "Sold 0 shares at: $43.87 on 2019-03-11 00:00:00, Cash after sale: $11155.22\n",
      "Bought 232.0 shares at: $47.88 on 2019-03-25 00:00:00, Remaining cash: $47.64\n",
      "Sold 0 shares at: $47.19 on 2019-03-27 00:00:00, Cash after sale: $10995.14\n",
      "Bought 232.0 shares at: $47.24 on 2019-03-28 00:00:00, Remaining cash: $36.04\n",
      "Sold 0 shares at: $47.91 on 2019-04-01 00:00:00, Cash after sale: $11151.16\n",
      "Bought 222.0 shares at: $50.21 on 2019-04-11 00:00:00, Remaining cash: $3.99\n",
      "Sold 0 shares at: $51.11 on 2019-04-23 00:00:00, Cash after sale: $11349.85\n",
      "Bought 218.0 shares at: $51.84 on 2019-04-24 00:00:00, Remaining cash: $48.73\n",
      "Sold 0 shares at: $52.47 on 2019-05-01 00:00:00, Cash after sale: $11487.19\n",
      "Bought 224.0 shares at: $51.07 on 2019-05-06 00:00:00, Remaining cash: $46.95\n",
      "Sold 0 shares at: $46.57 on 2019-05-15 00:00:00, Cash after sale: $10478.07\n",
      "Bought 228.0 shares at: $45.88 on 2019-05-20 00:00:00, Remaining cash: $17.43\n",
      "Sold 0 shares at: $46.63 on 2019-06-07 00:00:00, Cash after sale: $10648.50\n",
      "Bought 219.0 shares at: $48.49 on 2019-06-12 00:00:00, Remaining cash: $29.74\n",
      "Sold 0 shares at: $48.22 on 2019-06-17 00:00:00, Cash after sale: $10591.02\n",
      "Bought 213.0 shares at: $49.61 on 2019-06-25 00:00:00, Remaining cash: $24.62\n",
      "Sold 0 shares at: $49.44 on 2019-06-26 00:00:00, Cash after sale: $10555.87\n",
      "Bought 210.0 shares at: $50.20 on 2019-07-08 00:00:00, Remaining cash: $13.35\n",
      "Sold 0 shares at: $50.46 on 2019-07-10 00:00:00, Cash after sale: $10610.47\n",
      "Bought 207.0 shares at: $51.01 on 2019-07-17 00:00:00, Remaining cash: $50.88\n",
      "Sold 0 shares at: $51.00 on 2019-07-18 00:00:00, Cash after sale: $10607.88\n",
      "Bought 206.0 shares at: $51.45 on 2019-07-19 00:00:00, Remaining cash: $9.70\n",
      "Sold 0 shares at: $50.91 on 2019-07-22 00:00:00, Cash after sale: $10497.67\n",
      "Bought 201.0 shares at: $52.19 on 2019-07-30 00:00:00, Remaining cash: $7.48\n",
      "Sold 0 shares at: $54.10 on 2019-07-31 00:00:00, Cash after sale: $10882.59\n",
      "Bought 203.0 shares at: $53.47 on 2019-08-01 00:00:00, Remaining cash: $27.17\n",
      "Sold 0 shares at: $48.85 on 2019-08-07 00:00:00, Cash after sale: $9944.22\n",
      "Bought 189.0 shares at: $52.36 on 2019-08-23 00:00:00, Remaining cash: $48.66\n",
      "Sold 0 shares at: $52.12 on 2019-08-29 00:00:00, Cash after sale: $9900.28\n",
      "Bought 191.0 shares at: $51.61 on 2019-09-03 00:00:00, Remaining cash: $43.25\n",
      "Sold 0 shares at: $52.10 on 2019-09-04 00:00:00, Cash after sale: $9993.87\n",
      "Bought 181.0 shares at: $55.00 on 2019-09-13 00:00:00, Remaining cash: $38.87\n",
      "Sold 0 shares at: $55.22 on 2019-09-30 00:00:00, Cash after sale: $10034.60\n",
      "Bought 179.0 shares at: $55.76 on 2019-10-02 00:00:00, Remaining cash: $52.66\n",
      "Sold 0 shares at: $54.61 on 2019-10-03 00:00:00, Cash after sale: $9827.40\n",
      "Bought 174.0 shares at: $56.46 on 2019-10-08 00:00:00, Remaining cash: $4.23\n",
      "Sold 0 shares at: $56.98 on 2019-10-10 00:00:00, Cash after sale: $9919.19\n",
      "Bought 167.0 shares at: $59.10 on 2019-10-15 00:00:00, Remaining cash: $49.90\n",
      "Sold 0 shares at: $62.38 on 2019-11-01 00:00:00, Cash after sale: $10468.20\n",
      "Bought 162.0 shares at: $64.26 on 2019-11-05 00:00:00, Remaining cash: $57.68\n",
      "Sold 0 shares at: $66.87 on 2019-12-06 00:00:00, Cash after sale: $10890.62\n",
      "Bought 161.0 shares at: $67.50 on 2019-12-09 00:00:00, Remaining cash: $23.12\n",
      "Final sell 161.0 shares at: $72.48, Final cash: $11692.80\n",
      "Total profit from trading AAPL: $1692.80\n"
     ]
    }
   ],
   "source": [
    "#@title Single trader\n",
    "#Assume eval_data_test['AAPL'] is the DataFrame for AAPL stock\n",
    "aapl_df=eval_data_test['AAPL']\n",
    "\n",
    "#Initialize variables to track the state and holdings of the agent\n",
    "cash=10000\n",
    "holding_stock=False\n",
    "shares_held=0\n",
    "total_profit=0\n",
    "portfolio_values=[]\n",
    "dates=[]  #\n",
    "\n",
    "\n",
    "for index, row in aapl_df.iterrows():\n",
    "    current_date=row['Date']\n",
    "    portfolio_value=cash\n",
    "    if row['Pred_Binary_Indicator'] == 1 and not holding_stock and cash > 0:\n",
    "\n",
    "        shares_held=cash // row['Open']\n",
    "        cash -= shares_held * row['Open']\n",
    "        holding_stock=True\n",
    "        print(f\"Bought {shares_held} shares at: ${row['Open']:.2f} on {current_date}, Remaining cash: ${cash:.2f}\")\n",
    "    elif row['Pred_Binary_Indicator'] == -1 and holding_stock and shares_held > 0:\n",
    "\n",
    "        cash += shares_held * row['Open']\n",
    "        shares_held=0\n",
    "        holding_stock=False\n",
    "        print(f\"Sold {shares_held} shares at: ${row['Open']:.2f} on {current_date}, Cash after sale: ${cash:.2f}\")\n",
    "\n",
    "    #Add the value of any shares held to the portfolio value\n",
    "    if holding_stock:\n",
    "        portfolio_value += shares_held * row['Open']\n",
    "\n",
    "    #Record portfolio\n",
    "    portfolio_values.append(portfolio_value)\n",
    "    dates.append(current_date)\n",
    "\n",
    "if holding_stock and shares_held > 0:\n",
    "    final_open_price=aapl_df.iloc[-1]['Open']\n",
    "    cash += shares_held * final_open_price\n",
    "    portfolio_values[-1]=cash  #Update the last portfolio value to reflect the final sell  #Highlighted change\n",
    "    print(f\"Final sell {shares_held} shares at: ${final_open_price:.2f}, Final cash: ${cash:.2f}\")\n",
    "    shares_held=0\n",
    "    holding_stock=False\n",
    "\n",
    "total_profit=cash - 10000\n",
    "\n",
    "print(f\"Total profit from trading AAPL: ${total_profit:.2f}\")\n"
   ]
  },
  {
   "cell_type": "markdown",
   "metadata": {
    "id": "WiGkBri2hpmy"
   },
   "source": [
    "###Agent trading across all stocks"
   ]
  },
  {
   "cell_type": "markdown",
   "metadata": {
    "id": "xkF6i03Chpmy"
   },
   "source": [
    "####Trading Rules\n",
    "\n",
    "Now the agent looks at every stock to find which is going up the most while also selling upon a negative indicator. A holding period was also introduced to account for the uncertainty and rapidly changing buy and sell signals"
   ]
  },
  {
   "cell_type": "code",
   "execution_count": null,
   "metadata": {
    "ExecuteTime": {
     "end_time": "2024-04-01T11:47:20.565305900Z",
     "start_time": "2024-04-01T11:47:20.319586200Z"
    },
    "colab": {
     "base_uri": "https://localhost:8080/"
    },
    "id": "PcNfHtm6hpmz",
    "outputId": "5a85a73e-91ae-49a5-d3f7-ae28c08846fe",
    "cellView": "form"
   },
   "outputs": [
    {
     "output_type": "stream",
     "name": "stdout",
     "text": [
      "Bought 277 shares of AAPL at $35.99 on 2019-01-03 00:00:00, remaining cash: $29.39\n",
      "Bought 1 shares of T at $23.32 on 2019-01-09 00:00:00, remaining cash: $6.06\n",
      "Sold 277 shares of AAPL at $40.81 on 2019-01-30 00:00:00, cash after sale: $11311.12\n",
      "Bought 145 shares of ABBV at $77.69 on 2019-01-30 00:00:00, remaining cash: $46.07\n",
      "Bought 1 shares of AAPL at $43.10 on 2019-02-07 00:00:00, remaining cash: $2.97\n",
      "Sold 1 shares of AAPL at $42.53 on 2019-02-12 00:00:00, cash after sale: $45.50\n",
      "Sold 1 shares of T at $22.68 on 2019-02-15 00:00:00, cash after sale: $68.18\n",
      "Bought 1 shares of GOOGL at $56.97 on 2019-02-15 00:00:00, remaining cash: $11.22\n",
      "Sold 1 shares of GOOGL at $55.72 on 2019-02-26 00:00:00, cash after sale: $66.93\n",
      "Bought 1 shares of KO at $45.10 on 2019-02-26 00:00:00, remaining cash: $21.83\n",
      "Sold 1 shares of KO at $45.53 on 2019-03-04 00:00:00, cash after sale: $67.36\n",
      "Bought 1 shares of VZ at $57.15 on 2019-03-04 00:00:00, remaining cash: $10.21\n",
      "Sold 1 shares of VZ at $56.76 on 2019-03-11 00:00:00, cash after sale: $66.97\n",
      "Bought 2 shares of T at $22.64 on 2019-03-11 00:00:00, remaining cash: $21.69\n",
      "Sold 145 shares of ABBV at $80.06 on 2019-03-15 00:00:00, cash after sale: $11630.39\n",
      "Bought 194 shares of GOOGL at $59.90 on 2019-03-15 00:00:00, remaining cash: $9.79\n",
      "Sold 194 shares of GOOGL at $60.07 on 2019-03-20 00:00:00, cash after sale: $11663.37\n",
      "Bought 144 shares of ABBV at $80.72 on 2019-03-20 00:00:00, remaining cash: $39.69\n",
      "Sold 144 shares of ABBV at $79.85 on 2019-03-26 00:00:00, cash after sale: $11538.09\n",
      "Bought 240 shares of AAPL at $47.92 on 2019-03-26 00:00:00, remaining cash: $38.49\n",
      "Sold 240 shares of AAPL at $47.91 on 2019-04-01 00:00:00, cash after sale: $11536.89\n",
      "Bought 142 shares of ABBV at $80.98 on 2019-04-01 00:00:00, remaining cash: $37.73\n",
      "Sold 142 shares of ABBV at $83.70 on 2019-04-08 00:00:00, cash after sale: $11923.12\n",
      "Bought 196 shares of GOOGL at $60.56 on 2019-04-08 00:00:00, remaining cash: $54.25\n",
      "Bought 1 shares of KO at $46.54 on 2019-04-08 00:00:00, remaining cash: $7.71\n",
      "Sold 1 shares of KO at $46.88 on 2019-04-15 00:00:00, cash after sale: $54.59\n",
      "Bought 1 shares of AAPL at $49.65 on 2019-04-15 00:00:00, remaining cash: $4.94\n",
      "Sold 1 shares of AAPL at $51.11 on 2019-04-23 00:00:00, cash after sale: $56.05\n",
      "Bought 1 shares of AAPL at $51.84 on 2019-04-24 00:00:00, remaining cash: $4.21\n",
      "Sold 1 shares of AAPL at $52.47 on 2019-05-01 00:00:00, cash after sale: $56.68\n",
      "Bought 1 shares of INTC at $51.10 on 2019-05-01 00:00:00, remaining cash: $5.58\n",
      "Sold 196 shares of GOOGL at $58.63 on 2019-05-02 00:00:00, cash after sale: $11497.06\n",
      "Bought 120 shares of AMZN at $95.67 on 2019-05-02 00:00:00, remaining cash: $17.08\n",
      "Sold 120 shares of AMZN at $95.94 on 2019-05-08 00:00:00, cash after sale: $11530.30\n",
      "Bought 228 shares of AAPL at $50.47 on 2019-05-08 00:00:00, remaining cash: $22.00\n",
      "Sold 2 shares of T at $22.85 on 2019-05-10 00:00:00, cash after sale: $67.69\n",
      "Bought 1 shares of GOOGL at $58.44 on 2019-05-10 00:00:00, remaining cash: $9.25\n",
      "Sold 228 shares of AAPL at $46.57 on 2019-05-15 00:00:00, cash after sale: $10626.64\n",
      "Bought 84 shares of CAT at $125.91 on 2019-05-15 00:00:00, remaining cash: $50.20\n",
      "Sold 1 shares of GOOGL at $58.59 on 2019-05-16 00:00:00, cash after sale: $108.79\n",
      "Bought 4 shares of T at $23.68 on 2019-05-16 00:00:00, remaining cash: $14.08\n",
      "Sold 4 shares of T at $24.02 on 2019-06-06 00:00:00, cash after sale: $110.15\n",
      "Bought 2 shares of AAPL at $45.77 on 2019-06-06 00:00:00, remaining cash: $18.61\n",
      "Sold 2 shares of AAPL at $48.72 on 2019-06-11 00:00:00, cash after sale: $116.04\n",
      "Bought 1 shares of ABBV at $77.49 on 2019-06-11 00:00:00, remaining cash: $38.55\n",
      "Bought 1 shares of T at $24.21 on 2019-06-11 00:00:00, remaining cash: $14.34\n",
      "Sold 84 shares of CAT at $128.40 on 2019-06-18 00:00:00, cash after sale: $10799.94\n",
      "Bought 80 shares of MSFT at $134.19 on 2019-06-18 00:00:00, remaining cash: $64.74\n",
      "Bought 1 shares of GOOGL at $55.36 on 2019-06-19 00:00:00, remaining cash: $9.38\n",
      "Sold 80 shares of MSFT at $137.00 on 2019-06-24 00:00:00, cash after sale: $10969.38\n",
      "Bought 114 shares of AMZN at $95.63 on 2019-06-24 00:00:00, remaining cash: $67.21\n",
      "Bought 1 shares of AAPL at $49.61 on 2019-06-25 00:00:00, remaining cash: $17.61\n",
      "Sold 1 shares of ABBV at $68.16 on 2019-06-27 00:00:00, cash after sale: $85.77\n",
      "Sold 1 shares of T at $24.95 on 2019-06-28 00:00:00, cash after sale: $110.72\n",
      "Sold 1 shares of AAPL at $50.79 on 2019-07-01 00:00:00, cash after sale: $161.51\n",
      "Bought 1 shares of CAT at $139.30 on 2019-07-01 00:00:00, remaining cash: $22.21\n",
      "Sold 1 shares of GOOGL at $55.24 on 2019-07-02 00:00:00, cash after sale: $77.46\n",
      "Bought 3 shares of T at $25.28 on 2019-07-02 00:00:00, remaining cash: $1.62\n",
      "Sold 1 shares of INTC at $47.92 on 2019-07-10 00:00:00, cash after sale: $49.54\n",
      "Sold 114 shares of AMZN at $99.83 on 2019-07-10 00:00:00, cash after sale: $11429.64\n",
      "Bought 83 shares of MSFT at $137.13 on 2019-07-10 00:00:00, remaining cash: $47.85\n",
      "Sold 1 shares of CAT at $134.71 on 2019-07-12 00:00:00, cash after sale: $182.56\n",
      "Bought 1 shares of AMZN at $100.41 on 2019-07-12 00:00:00, remaining cash: $82.15\n",
      "Bought 1 shares of ABBV at $70.30 on 2019-07-12 00:00:00, remaining cash: $11.85\n",
      "Sold 3 shares of T at $24.31 on 2019-07-24 00:00:00, cash after sale: $84.77\n",
      "Bought 1 shares of GOOGL at $56.63 on 2019-07-24 00:00:00, remaining cash: $28.13\n",
      "Sold 1 shares of ABBV at $67.64 on 2019-07-26 00:00:00, cash after sale: $95.77\n",
      "Sold 1 shares of GOOGL at $62.12 on 2019-07-29 00:00:00, cash after sale: $157.90\n",
      "Bought 2 shares of ABBV at $67.87 on 2019-07-29 00:00:00, remaining cash: $22.16\n",
      "Sold 2 shares of ABBV at $63.51 on 2019-08-16 00:00:00, cash after sale: $149.18\n",
      "Bought 2 shares of GOOGL at $59.04 on 2019-08-16 00:00:00, remaining cash: $31.10\n",
      "Bought 1 shares of T at $26.65 on 2019-08-20 00:00:00, remaining cash: $4.45\n",
      "Sold 1 shares of T at $26.84 on 2019-09-04 00:00:00, cash after sale: $31.28\n",
      "Bought 1 shares of T at $27.11 on 2019-09-05 00:00:00, remaining cash: $4.17\n",
      "Sold 1 shares of T at $28.10 on 2019-09-10 00:00:00, cash after sale: $32.27\n",
      "Sold 2 shares of GOOGL at $61.61 on 2019-09-13 00:00:00, cash after sale: $155.48\n",
      "Bought 2 shares of AAPL at $55.00 on 2019-09-13 00:00:00, remaining cash: $45.48\n",
      "Bought 1 shares of T at $28.47 on 2019-09-16 00:00:00, remaining cash: $17.01\n",
      "Sold 1 shares of T at $28.41 on 2019-09-23 00:00:00, cash after sale: $45.42\n",
      "Bought 1 shares of PFE at $34.52 on 2019-09-23 00:00:00, remaining cash: $10.91\n",
      "Sold 2 shares of AAPL at $55.22 on 2019-09-30 00:00:00, cash after sale: $121.36\n",
      "Bought 1 shares of GOOGL at $61.03 on 2019-09-30 00:00:00, remaining cash: $60.33\n",
      "Bought 1 shares of INTC at $51.97 on 2019-10-01 00:00:00, remaining cash: $8.36\n",
      "Sold 1 shares of PFE at $33.67 on 2019-10-04 00:00:00, cash after sale: $42.03\n",
      "Bought 1 shares of T at $28.46 on 2019-10-08 00:00:00, remaining cash: $13.57\n",
      "Sold 1 shares of INTC at $52.00 on 2019-10-11 00:00:00, cash after sale: $65.57\n",
      "Sold 1 shares of T at $28.38 on 2019-10-14 00:00:00, cash after sale: $93.95\n",
      "Bought 1 shares of ABBV at $73.65 on 2019-10-14 00:00:00, remaining cash: $20.30\n",
      "Sold 1 shares of ABBV at $76.88 on 2019-10-21 00:00:00, cash after sale: $97.18\n",
      "Bought 1 shares of AAPL at $59.38 on 2019-10-21 00:00:00, remaining cash: $37.80\n",
      "Bought 1 shares of T at $28.71 on 2019-10-23 00:00:00, remaining cash: $9.09\n",
      "Sold 1 shares of T at $28.93 on 2019-10-28 00:00:00, cash after sale: $38.02\n",
      "Sold 1 shares of AAPL at $62.38 on 2019-11-01 00:00:00, cash after sale: $100.41\n",
      "Bought 1 shares of VZ at $61.29 on 2019-11-01 00:00:00, remaining cash: $39.12\n",
      "Bought 1 shares of PFE at $36.08 on 2019-11-05 00:00:00, remaining cash: $3.03\n",
      "Sold 1 shares of VZ at $59.70 on 2019-11-06 00:00:00, cash after sale: $62.73\n",
      "Bought 1 shares of VZ at $60.05 on 2019-11-08 00:00:00, remaining cash: $2.68\n",
      "Sold 1 shares of PFE at $35.02 on 2019-11-11 00:00:00, cash after sale: $37.70\n",
      "Bought 1 shares of T at $29.72 on 2019-11-12 00:00:00, remaining cash: $7.98\n",
      "Sold 1 shares of VZ at $59.15 on 2019-11-13 00:00:00, cash after sale: $67.13\n",
      "Bought 1 shares of AAPL at $65.28 on 2019-11-13 00:00:00, remaining cash: $1.85\n",
      "Sold 1 shares of T at $29.68 on 2019-11-18 00:00:00, cash after sale: $31.53\n",
      "Bought 1 shares of T at $29.40 on 2019-11-19 00:00:00, remaining cash: $2.14\n",
      "Sold 1 shares of T at $28.63 on 2019-11-25 00:00:00, cash after sale: $30.76\n",
      "Bought 1 shares of T at $28.16 on 2019-11-26 00:00:00, remaining cash: $2.61\n",
      "Sold 1 shares of T at $28.39 on 2019-12-04 00:00:00, cash after sale: $31.00\n",
      "Sold 1 shares of AAPL at $66.87 on 2019-12-06 00:00:00, cash after sale: $97.87\n",
      "Bought 1 shares of ABBV at $87.21 on 2019-12-06 00:00:00, remaining cash: $10.66\n",
      "Sold 1 shares of ABBV at $86.76 on 2019-12-12 00:00:00, cash after sale: $97.42\n",
      "Bought 1 shares of AAPL at $66.94 on 2019-12-12 00:00:00, remaining cash: $30.47\n",
      "Bought 1 shares of T at $28.85 on 2019-12-12 00:00:00, remaining cash: $1.62\n",
      "Sold 1 shares of T at $29.15 on 2019-12-18 00:00:00, cash after sale: $30.77\n",
      "Bought 1 shares of T at $29.65 on 2019-12-23 00:00:00, remaining cash: $1.13\n",
      "Sold 1 shares of AMZN at $90.05 on 2019-12-26 00:00:00, cash after sale: $91.18\n",
      "Bought 1 shares of INTC at $59.41 on 2019-12-26 00:00:00, remaining cash: $31.77\n",
      "Sold 1 shares of INTC at $59.62 on 2019-12-31 00:00:00, cash after sale: $91.39\n",
      "Bought 1 shares of ABBV at $88.21 on 2019-12-31 00:00:00, remaining cash: $3.18\n",
      "Final sell 83 shares of MSFT at: $156.77 on 2019-12-31 00:00:00, cash after sale: $13015.09\n",
      "Final sell 1 shares of GOOGL at: $66.79 on 2019-12-31 00:00:00, cash after sale: $13081.88\n",
      "Final sell 1 shares of AAPL at: $72.48 on 2019-12-31 00:00:00, cash after sale: $13154.36\n",
      "Final sell 1 shares of T at: $29.46 on 2019-12-31 00:00:00, cash after sale: $13183.83\n",
      "Final sell 1 shares of ABBV at: $88.21 on 2019-12-31 00:00:00, cash after sale: $13272.04\n",
      "Total profit from trading: $3272.04\n"
     ]
    }
   ],
   "source": [
    "#@title Multistock trader\n",
    "import pandas as pd\n",
    "\n",
    "all_dates=sorted(list(set.union(*(set(pd.to_datetime(df['Date'])) for df in eval_data_test.values()))))\n",
    "#initialization\n",
    "cash=10000\n",
    "portfolio={}\n",
    "daily_portfolio_value={}\n",
    "holding_period=5\n",
    "\n",
    "portfolio_values_2=[]  #This is for the graph\n",
    "\n",
    "for current_date in all_dates:\n",
    "    portfolio_value=cash\n",
    "\n",
    "    for ticker, (shares_held, purchase_date) in list(portfolio.items()):\n",
    "        if (current_date - purchase_date).days >= holding_period:\n",
    "            sell_data=eval_data_test[ticker][eval_data_test[ticker]['Date'] == current_date]\n",
    "            if not sell_data.empty and sell_data.iloc[0]['Pred_Binary_Indicator'] == -1:\n",
    "                sell_price=sell_data.iloc[0]['Open']\n",
    "                cash += shares_held * sell_price\n",
    "                print(f\"Sold {shares_held} shares of {ticker} at ${sell_price:.2f} on {current_date}, cash after sale: ${cash:.2f}\")\n",
    "                del portfolio[ticker]\n",
    "\n",
    "    for ticker, df in eval_data_test.items():\n",
    "        if ticker not in portfolio:\n",
    "            buy_data=df[df['Date'] == current_date]\n",
    "            if not buy_data.empty and buy_data.iloc[0]['Pred_Binary_Indicator'] == 1:\n",
    "                buy_price=buy_data.iloc[0]['Open']\n",
    "                if cash >= buy_price:\n",
    "                    shares_held=int(cash // buy_price)\n",
    "                    cash -= shares_held * buy_price\n",
    "                    portfolio[ticker]=(shares_held, current_date)  #Add new stock to portfolio\n",
    "                    print(f\"Bought {shares_held} shares of {ticker} at ${buy_price:.2f} on {current_date}, remaining cash: ${cash:.2f}\")\n",
    "\n",
    "    #Calculate the value (cash + the current value of held stocks)\n",
    "    for ticker, (shares_held, _) in portfolio.items():\n",
    "        current_price=eval_data_test[ticker][eval_data_test[ticker]['Date'] == current_date].iloc[0]['Open']\n",
    "        portfolio_value += shares_held * current_price\n",
    "\n",
    "    #Record the portfolio value\n",
    "    daily_portfolio_value[current_date]=portfolio_value\n",
    "    portfolio_values_2.append(portfolio_value)\n",
    "\n",
    "#On the last day, sell any remaining shares\n",
    "last_day=all_dates[-1]\n",
    "for ticker, (shares_held, _) in portfolio.items():\n",
    "    final_data=eval_data_test[ticker][eval_data_test[ticker]['Date'] == last_day]\n",
    "    if not final_data.empty:\n",
    "        final_sell_price=final_data.iloc[0]['Open']\n",
    "        cash += shares_held * final_sell_price\n",
    "        print(f\"Final sell {shares_held} shares of {ticker} at: ${final_sell_price:.2f} on {last_day}, cash after sale: ${cash:.2f}\")\n",
    "    portfolio_values_2[-1]=cash\n",
    "\n",
    "total_profit=cash - 10000\n",
    "print(f\"Total profit from trading: ${total_profit:.2f}\")\n"
   ]
  },
  {
   "cell_type": "markdown",
   "source": [
    "### Implementing a Genetic Program for trading"
   ],
   "metadata": {
    "id": "r0ARxcRFeZzq"
   }
  },
  {
   "cell_type": "code",
   "source": [
    "#@title GP\n",
    "from deap import gp, base, creator, tools, algorithms\n",
    "import operator\n",
    "import numpy as np\n",
    "import pandas as pd\n",
    "import random\n",
    "import warnings\n",
    "\n",
    "warnings.filterwarnings(\"ignore\", category=RuntimeWarning)\n",
    "random.seed(42)\n",
    "\n",
    "def safeDiv(left, right):\n",
    "    try:\n",
    "        return left / right\n",
    "    except ZeroDivisionError:\n",
    "        return 1\n",
    "\n",
    "#Define the primitive set for the GP\n",
    "pset=gp.PrimitiveSet(\"MAIN\", arity=10)\n",
    "pset.addPrimitive(operator.add, 2)\n",
    "pset.addPrimitive(operator.sub, 2)\n",
    "pset.addPrimitive(operator.mul, 2)\n",
    "pset.addPrimitive(safeDiv, 2)\n",
    "pset.addPrimitive(operator.neg, 1)\n",
    "pset.addPrimitive(np.cos, 1)\n",
    "pset.addPrimitive(np.sin, 1)\n",
    "pset.addEphemeralConstant(\"rand101\", lambda: random.uniform(-1, 1))\n",
    "pset.renameArguments(ARG0='Pred_Percent_Change', ARG1='Volume', ARG2='SMA_20', ARG3='SMA_50', ARG4='EMA_12', ARG5='RSI', ARG6='MACD', ARG7='Signal_Line', ARG8='SMA_10', ARG9='EMA_26')\n",
    "\n",
    "\n",
    "creator.create(\"FitnessMax\", base.Fitness, weights=(1.0,))\n",
    "creator.create(\"Individual\", gp.PrimitiveTree, fitness=creator.FitnessMax)\n",
    "\n",
    "toolbox=base.Toolbox()\n",
    "toolbox.register(\"expr\", gp.genHalfAndHalf, pset=pset, min_=1, max_=2)\n",
    "toolbox.register(\"individual\", tools.initIterate, creator.Individual, toolbox.expr)\n",
    "toolbox.register(\"population\", tools.initRepeat, list, toolbox.individual)\n",
    "toolbox.register(\"compile\", gp.compile, pset=pset)\n",
    "def collect_trades_and_track_portfolio(individual, data_dict, initial_budget=1000):\n",
    "    func=toolbox.compile(expr=individual)\n",
    "    trades=[]\n",
    "    portfolio_value_history=[]\n",
    "\n",
    "    for symbol, data in data_dict.items():\n",
    "        budget=initial_budget\n",
    "        holding=0  #Number of shares held\n",
    "        portfolio_value=initial_budget  #Initial portfolio value equals initial budget\n",
    "\n",
    "        for index, row in data.iterrows():\n",
    "            decision=func(\n",
    "                row['Pred_Percent_Change'],\n",
    "                row['Volume'],\n",
    "                row['SMA_20'],\n",
    "                row['SMA_50'],\n",
    "                row['EMA_12'],\n",
    "                row['RSI'],\n",
    "                row['MACD'],\n",
    "                row['Signal_Line'],\n",
    "                row['SMA_10'],\n",
    "                row['EMA_26']\n",
    "            )\n",
    "\n",
    "            #Update current portfolio value\n",
    "            portfolio_value=budget + holding * row['Close']\n",
    "            portfolio_value_history.append(portfolio_value)\n",
    "\n",
    "            #Execute trades based on the decision\n",
    "            if decision > 0:  #Buy decision\n",
    "                num_shares_to_buy=budget // row['Open']\n",
    "                if num_shares_to_buy > 0:\n",
    "                    holding += num_shares_to_buy\n",
    "                    budget -= num_shares_to_buy * row['Open']\n",
    "                    trades.append(('Buy', symbol, num_shares_to_buy, row['Date'], portfolio_value))\n",
    "\n",
    "            elif decision < 0 and holding > 0:  #Sell decision\n",
    "                budget += holding * row['Close']\n",
    "                trades.append(('Sell', symbol, holding, row['Date'], portfolio_value))\n",
    "                holding=0  #After selling, holding resets to 0\n",
    "\n",
    "    final_portfolio_value=budget + holding * data.iloc[-1]['Close']  #Update for the last day\n",
    "    return trades, final_portfolio_value, portfolio_value_history\n",
    "\n",
    "\n",
    "def evaluate(individual, toolbox, data_dict, initial_budget=10000):\n",
    "    #Compile the individual strategy into a function\n",
    "    strategy=toolbox.compile(expr=individual)\n",
    "    total_portfolio_value=initial_budget\n",
    "\n",
    "    for symbol, data in data_dict.items():\n",
    "        budget=initial_budget / len(data_dict)\n",
    "        holding=0\n",
    "\n",
    "        for _, row in data.iterrows():\n",
    "            decision=strategy(\n",
    "                row['Pred_Percent_Change'],\n",
    "                row['Volume'],\n",
    "                row['SMA_20'],\n",
    "                row['SMA_50'],\n",
    "                row['EMA_12'],\n",
    "                row['RSI'],\n",
    "                row['MACD'],\n",
    "                row['Signal_Line'],\n",
    "                row['SMA_10'],\n",
    "                row['EMA_26']\n",
    "            )\n",
    "\n",
    "            #Buy if decision > 0 and there's enough budget for at least one share\n",
    "            if decision > 0 and budget >= row[\"Open\"]:\n",
    "                shares_to_buy=int(budget // row[\"Open\"])\n",
    "                budget -= shares_to_buy * row[\"Open\"]\n",
    "                holding += shares_to_buy\n",
    "\n",
    "            #Sell all holdings if decision < 0\n",
    "            elif decision < 0 and holding > 0:\n",
    "                budget += holding * row[\"Open\"]\n",
    "                holding=0\n",
    "\n",
    "        #After iterating through the data, sell any remaining holdings\n",
    "        if holding > 0:\n",
    "            budget += holding * data.iloc[-1][\"Open\"]\n",
    "\n",
    "      #Update portfolio value\n",
    "        total_portfolio_value += budget - (initial_budget / len(data_dict))\n",
    "    return total_portfolio_value - initial_budget,\n",
    "\n",
    "\n",
    "toolbox.register(\"evaluate\", evaluate, toolbox=toolbox, data_dict=eval_data)  #Default to training data\n",
    "toolbox.register(\"select\", tools.selTournament, tournsize=3)\n",
    "toolbox.register(\"mate\", gp.cxOnePoint)\n",
    "toolbox.register(\"expr_mut\", gp.genFull, min_=0, max_=2)\n",
    "toolbox.register(\"mutate\", gp.mutUniform, expr=toolbox.expr_mut, pset=pset)\n",
    "\n",
    "#Setting up statistics\n",
    "stats=tools.Statistics(lambda ind: ind.fitness.values)\n",
    "stats.register(\"avg\", np.mean)\n",
    "stats.register(\"std\", np.std)\n",
    "stats.register(\"min\", np.min)\n",
    "stats.register(\"max\", np.max)\n",
    "\n",
    "hof=tools.HallOfFame(1)\n",
    "\n",
    "def get_trades(individual, data_dict, initial_budget=1000):\n",
    "    toolbox.compile(expr=individual)\n",
    "\n",
    "    return trades"
   ],
   "metadata": {
    "id": "SmPY0Z1MeYx8",
    "cellView": "form"
   },
   "execution_count": null,
   "outputs": []
  },
  {
   "cell_type": "code",
   "source": [
    "#@title GP Execution\n",
    "def main():\n",
    "    pop=toolbox.population(n=140)\n",
    "    _, log=algorithms.eaSimple(pop, toolbox, 0.5, 0.2, 15, stats=stats, halloffame=hof, verbose=True)\n",
    "\n",
    "    if len(hof) > 0:\n",
    "        best_ind=hof[0]\n",
    "\n",
    "        testing_trades, final_testing_portfolio_value, testing_portfolio_values=collect_trades_and_track_portfolio(best_ind, eval_data_test, 1000)\n",
    "\n",
    "        print(\"Final Testing Portfolio Value:\", final_testing_portfolio_value)\n",
    "        print(\"\\nDetails After Each Trade:\")\n",
    "        for i, trade in enumerate(testing_trades):\n",
    "            #Corrected to match the structure of trades tuples\n",
    "            action, symbol, amount, date, portfolio_value_before_trade=trade\n",
    "            print(f\"{date} - {symbol}: {action} {amount}, Portfolio Value Before Trade: {portfolio_value_before_trade:.2f}\")\n",
    "\n",
    "        return best_ind, log, hof, testing_trades\n",
    "    else:\n",
    "        print(\"No individuals in Hall Of Fame.\")\n",
    "        return None, log, hof, []\n",
    "\n",
    " #Return tree\n",
    "def print_tree(expr, depth=0):\n",
    "    spacing=\"  \"\n",
    "    if isinstance(expr, gp.Primitive):\n",
    "        print(f\"{spacing*depth}{expr.name}\", end=\"\")\n",
    "        if expr.args:\n",
    "            print(\"(\")\n",
    "            for arg in expr.args:\n",
    "                print_tree(arg, depth=depth + 1)\n",
    "            print(f\"{spacing*depth})\", end=\"\")\n",
    "        else:\n",
    "            print(\"()\", end=\"\")\n",
    "    elif isinstance(expr, gp.Terminal):\n",
    "        if isinstance(expr.value, gp.Ephemeral):\n",
    "            print(f\"{spacing*depth}{expr.value.value}\", end=\"\")\n",
    "        else:\n",
    "            print(f\"{spacing*depth}{expr.value}\", end=\"\")\n",
    "    else:\n",
    "        print(f\"{spacing*depth}{expr}\", end=\"\")\n",
    "    if depth == 0:\n",
    "        print(\",\", end=\"\")\n",
    "    print()\n",
    "#Run\n",
    "if __name__ == \"__main__\":\n",
    "    best_ind, log, hof, testing_trades=main()\n",
    "    if best_ind:\n",
    "        print(\"Best individual:\")\n",
    "        print_tree(best_ind)\n",
    "\n"
   ],
   "metadata": {
    "id": "Jt03ScbIee9z",
    "cellView": "form"
   },
   "execution_count": null,
   "outputs": []
  },
  {
   "cell_type": "markdown",
   "source": [
    "Please note that the output has been copied from another jupyter system due to time constraints\n",
    "</div>\n",
    "<img src=\"https://private-user-images.githubusercontent.com/52210863/319398911-ae5a454b-e831-4999-a3e7-5feab95a7008.png?jwt=eyJhbGciOiJIUzI1NiIsInR5cCI6IkpXVCJ9.eyJpc3MiOiJnaXRodWIuY29tIiwiYXVkIjoicmF3LmdpdGh1YnVzZXJjb250ZW50LmNvbSIsImtleSI6ImtleTUiLCJleHAiOjE3MTIxOTA4NTcsIm5iZiI6MTcxMjE5MDU1NywicGF0aCI6Ii81MjIxMDg2My8zMTkzOTg5MTEtYWU1YTQ1NGItZTgzMS00OTk5LWEzZTctNWZlYWI5NWE3MDA4LnBuZz9YLUFtei1BbGdvcml0aG09QVdTNC1ITUFDLVNIQTI1NiZYLUFtei1DcmVkZW50aWFsPUFLSUFWQ09EWUxTQTUzUFFLNFpBJTJGMjAyNDA0MDQlMkZ1cy1lYXN0LTElMkZzMyUyRmF3czRfcmVxdWVzdCZYLUFtei1EYXRlPTIwMjQwNDA0VDAwMjkxN1omWC1BbXotRXhwaXJlcz0zMDAmWC1BbXotU2lnbmF0dXJlPTMwMjNjMjA1MzAwOTEzMmZiMTgwYzI3YzZkMjVjZmJhNjQzM2Q0ZjNiM2Q2OGY0MzU0YzNkNjY0MzlmMzcxYTAmWC1BbXotU2lnbmVkSGVhZGVycz1ob3N0JmFjdG9yX2lkPTAma2V5X2lkPTAmcmVwb19pZD0wIn0.re9Vdm-H0ArYvOl8Lccendp91A8zHOQsNQEcqKa6gDQ\" alt=\"Demonstration of applying genetic programming to create trading strategy\" width= 750; height=500;\">\n",
    "</div>\n",
    "\n",
    "\n",
    "While our GP failed to achieve good results compared to the other methods, it was showing steady improvement suggesting that more training time could lear to a better model.\n",
    "\n",
    "It also outputed a rule for generating a trade signal that can be visualized below:\n",
    "\n",
    "Trading decision=(((SMA20​+Pred_Percent_Change)×Pred_Percent_Change+(−0.7807908210173544))×(−0.7807908210173544))SMA10​​\n",
    "\n",
    "\n"
   ],
   "metadata": {
    "id": "ag5JvknOFMBX"
   }
  },
  {
   "cell_type": "markdown",
   "source": [
    "</div>\n",
    "<img src=\"https://private-user-images.githubusercontent.com/52210863/319399086-de608509-2894-4fdd-8479-45442575b898.png?jwt=eyJhbGciOiJIUzI1NiIsInR5cCI6IkpXVCJ9.eyJpc3MiOiJnaXRodWIuY29tIiwiYXVkIjoicmF3LmdpdGh1YnVzZXJjb250ZW50LmNvbSIsImtleSI6ImtleTUiLCJleHAiOjE3MTIxOTE3MjIsIm5iZiI6MTcxMjE5MTQyMiwicGF0aCI6Ii81MjIxMDg2My8zMTkzOTkwODYtZGU2MDg1MDktMjg5NC00ZmRkLTg0NzktNDU0NDI1NzViODk4LnBuZz9YLUFtei1BbGdvcml0aG09QVdTNC1ITUFDLVNIQTI1NiZYLUFtei1DcmVkZW50aWFsPUFLSUFWQ09EWUxTQTUzUFFLNFpBJTJGMjAyNDA0MDQlMkZ1cy1lYXN0LTElMkZzMyUyRmF3czRfcmVxdWVzdCZYLUFtei1EYXRlPTIwMjQwNDA0VDAwNDM0MlomWC1BbXotRXhwaXJlcz0zMDAmWC1BbXotU2lnbmF0dXJlPTg2ZDk3ZjRjOTQ1MGNhODQ4NGExY2NjMTExYWMzYjk5YjRmYzQ1MjY5NTQwOTgxNjc2Yjc2YjNmNGE0M2RmMjcmWC1BbXotU2lnbmVkSGVhZGVycz1ob3N0JmFjdG9yX2lkPTAma2V5X2lkPTAmcmVwb19pZD0wIn0.5J-y3xrLFfuLuRFyjmBhpzjLwSzZsif1kfsY2NOVyzE\" alt=\"Demonstration of applying genetic programming to create trading strategy\" width= 500; height=400;\">\n",
    "</div>"
   ],
   "metadata": {
    "id": "DFPNkB_jkB9e"
   }
  },
  {
   "cell_type": "markdown",
   "source": [
    "##Trading Strategy comments and findings\n",
    "\n",
    "There were several approaches to trading. Our prediction based method unfortunately underperformed for the single stock, due to the noise in our predictions. They especially underperformed the market index which rose some 30% during the period. Our multi-stock model performed better, close to the market. Since this model heavily relied on predictions, this validates that our predictive neural network performed relatively well.\n",
    "\n",
    "\n",
    "Our GP which underperformed, was not included, but nontheless beat inflation while underperforming relative to the other methods.\n"
   ],
   "metadata": {
    "id": "p3mhCLIx0zQW"
   }
  },
  {
   "cell_type": "code",
   "source": [
    "#@title\n",
    "import matplotlib.pyplot as plt\n",
    "#Assuming eval_data_test contains DataFrames for each ticker with 'Close' columns\n",
    "all_dates=sorted(list(set.union(*(set(pd.to_datetime(eval_data_test[ticker]['Date'])) for ticker in top_20_sp500_tickers))))\n",
    "average_close_df=pd.DataFrame(index=all_dates, columns=['Average Close'])\n",
    "#Calculate the daily average 'Close' price across the tickers\n",
    "for current_date in all_dates:\n",
    "    daily_closes=[]\n",
    "    for ticker in top_20_sp500_tickers:\n",
    "        df=eval_data_test[ticker]\n",
    "        close_price=df.loc[df['Date'] == current_date.strftime('%Y-%m-%d'), 'Close']\n",
    "        if not close_price.empty:\n",
    "            daily_closes.append(close_price.iloc[0])\n",
    "    if daily_closes:\n",
    "        average_close_df.loc[current_date, 'Average Close']=sum(daily_closes) / len(daily_closes)\n",
    "average_close_df['Average Close']=pd.to_numeric(average_close_df['Average Close'])\n",
    "average_close_df['Index Level']=(average_close_df['Average Close'] / average_close_df['Average Close'].iloc[0]) * 10000\n",
    "\n",
    "#Filter out zero values, and values outside the range\n",
    "filtered_dates_1=[date for date, value in zip(dates, portfolio_values) if 9000 <= value <= 15000]\n",
    "filtered_portfolio_values_1=[value for value in portfolio_values if 9000 <= value <= 15000]\n",
    "dates_2=all_dates.copy()\n",
    "filtered_dates_2=[date for date, value in zip(dates_2, portfolio_values_2) if 9000 <= value <= 15000]\n",
    "filtered_portfolio_values_2=[value for value in portfolio_values_2 if 9000 <= value <= 15000]\n",
    "\n",
    "#Plotting the combined data\n",
    "plt.figure(figsize=(14, 7))\n",
    "#Plot the Index Level over time\n",
    "plt.plot(average_close_df.index, average_close_df['Index Level'], marker='', color='purple', linewidth=2, label='Index Level Based on Average Close')\n",
    "\n",
    "#Plot for Models\n",
    "plt.plot(filtered_dates_1, filtered_portfolio_values_1, marker='', color='blue', linewidth=2, label='Model 1 Portfolio Value')\n",
    "plt.plot(filtered_dates_2, filtered_portfolio_values_2, marker='', color='green', linewidth=2, label='Model 2 Portfolio Value')\n",
    "plt.title('Index Level and Portfolio Values Over Time')\n",
    "plt.xlabel('Date')\n",
    "plt.ylabel('Value')\n",
    "plt.legend()\n",
    "plt.grid(True)\n",
    "plt.xticks(rotation=45)\n",
    "plt.tight_layout()\n",
    "plt.show()"
   ],
   "metadata": {
    "id": "qXUue28QBSnL",
    "cellView": "form"
   },
   "execution_count": null,
   "outputs": []
  },
  {
   "cell_type": "markdown",
   "source": [
    "</div>\n",
    "<img src=\"https://private-user-images.githubusercontent.com/52210863/319399039-2cd08de4-c1e3-40cb-aee2-b29de5fbf20d.png?jwt=eyJhbGciOiJIUzI1NiIsInR5cCI6IkpXVCJ9.eyJpc3MiOiJnaXRodWIuY29tIiwiYXVkIjoicmF3LmdpdGh1YnVzZXJjb250ZW50LmNvbSIsImtleSI6ImtleTUiLCJleHAiOjE3MTIxOTA5MDcsIm5iZiI6MTcxMjE5MDYwNywicGF0aCI6Ii81MjIxMDg2My8zMTkzOTkwMzktMmNkMDhkZTQtYzFlMy00MGNiLWFlZTItYjI5ZGU1ZmJmMjBkLnBuZz9YLUFtei1BbGdvcml0aG09QVdTNC1ITUFDLVNIQTI1NiZYLUFtei1DcmVkZW50aWFsPUFLSUFWQ09EWUxTQTUzUFFLNFpBJTJGMjAyNDA0MDQlMkZ1cy1lYXN0LTElMkZzMyUyRmF3czRfcmVxdWVzdCZYLUFtei1EYXRlPTIwMjQwNDA0VDAwMzAwN1omWC1BbXotRXhwaXJlcz0zMDAmWC1BbXotU2lnbmF0dXJlPWFlMjdmNWFhMGRkZjdlYzlmMzBhODQ2YTgzOTc5NDdjYTFiODgwYTljNmNjNDc1MjBjMDk1ZWRjM2MzNDZlNWYmWC1BbXotU2lnbmVkSGVhZGVycz1ob3N0JmFjdG9yX2lkPTAma2V5X2lkPTAmcmVwb19pZD0wIn0.ScDBxujqzb1OYwIt3CIvbupSbXkZpgZZlWymYRC97u4\" alt=\"Demonstration of applying genetic programming to create trading strategy\" width= 750; height=450;\">\n",
    "</div>"
   ],
   "metadata": {
    "id": "UTCGFKO0Exw0"
   }
  },
  {
   "cell_type": "markdown",
   "source": [
    "Our approach above is just one way to apply evolutionary programming into developing trading strategies. While generating buy and sell signal of a single stock is relatively simple and can potentially generate steady profits, in an open market we are require to make decision to choose our holding within various stocks, and this would require a complicate pre-determined trading rule to make trading bot applicable. For this problem, we can apply genetic programming to create trading strategies that can be present in the form of logic tree as presented below\n",
    "\n",
    "\n",
    "</div>\n",
    "<img src=\"https://turingfinance.com/wp-content/uploads/2013/06/GPImage3.png\" alt=\"Demonstration of applying genetic programming to create trading strategy\" width= 500; height=400;\">\n",
    "</div>\n",
    "\n",
    "Based on the principle of genetic programming, the process can follow these steps.\n",
    "First, we present the strategies in the form of logic trees\n",
    "</div>\n",
    "<img src=\"https://raw.githubusercontent.com/ZelinC/markdown-figures/master/trading_rule.png\"\n",
    "alt=\"example of trading process\"\n",
    "width= 500; height=300;\">\n",
    "</div>\n",
    "\n",
    "We can apply crossover between different rules\n",
    "</div>\n",
    "<img src=\"https://raw.githubusercontent.com/ZelinC/markdown-figures/master/train1_crossover.png\"\n",
    "alt=\"example of crossover\"\n",
    "width= 500; height=250;\">\n",
    "</div>\n",
    "\n",
    "And mutate the resulting strategy\n",
    "</div>\n",
    "<img src=\"https://raw.githubusercontent.com/ZelinC/markdown-figures/master/train1_mutation.png\"\n",
    "alt=\"example of mutation\"\n",
    "width= 500; height=250;\">\n",
    "</div>\n",
    "\n",
    "\n",
    "\n",
    "The resulting trading strategies can be more details.\n",
    "\n",
    "![example of possible output](https://raw.githubusercontent.com/ZelinC/markdown-figures/master/rule_printer.PNG)\n",
    "\n",
    "References\n",
    "\n",
    "Turing Finance. \"Using genetic programming to evolve security analysis decision trees.\" Turing Finance,\n",
    "https://www.turingfinance.com/using-genetic-programming-to-evolve-security-analysis-decision-trees/.\n",
    "\n",
    "\n",
    "Zelin Chen. Genetic Programming trading rules searching. 2018. GitHub, https://github.com/username/repository."
   ],
   "metadata": {
    "id": "nsvun2Gn6aXT"
   }
  }
 ],
 "metadata": {
  "kernelspec": {
   "display_name": "base",
   "language": "python",
   "name": "python3"
  },
  "language_info": {
   "codemirror_mode": {
    "name": "ipython",
    "version": 3
   },
   "file_extension": ".py",
   "mimetype": "text/x-python",
   "name": "python",
   "nbconvert_exporter": "python",
   "pygments_lexer": "ipython3",
   "version": "3.11.7"
  },
  "colab": {
   "provenance": []
  }
 },
 "nbformat": 4,
 "nbformat_minor": 0
}
